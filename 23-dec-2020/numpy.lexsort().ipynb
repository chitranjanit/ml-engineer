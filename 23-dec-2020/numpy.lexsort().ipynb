{
 "cells": [
  {
   "cell_type": "code",
   "execution_count": 1,
   "metadata": {},
   "outputs": [
    {
     "name": "stdout",
     "output_type": "stream",
     "text": [
      "Applying lexsort() function:\n",
      "[3 1 0 2]\n",
      "\n",
      "\n",
      "Use this index to get sorted data:\n",
      "<generator object <genexpr> at 0x10e0547d0>\n"
     ]
    }
   ],
   "source": [
    "import numpy as np\n",
    "nm = ('raju','anil','ravi','amar')\n",
    "dv = ('f.y.','s.y.','s.y.','f.y.')\n",
    "\n",
    "ind = np.lexsort((dv,nm))\n",
    "print('Applying lexsort() function:')\n",
    "print(ind)\n",
    "print('\\n')\n",
    "\n",
    "print('Use this index to get sorted data:')\n",
    "print(nm[i]+\", \"+dv[i] for i in ind )"
   ]
  },
  {
   "cell_type": "code",
   "execution_count": 2,
   "metadata": {},
   "outputs": [
    {
     "name": "stdout",
     "output_type": "stream",
     "text": [
      "Our array is:\n",
      "[[30 40 70]\n",
      " [80 20 10]\n",
      " [50 90 60]]\n",
      "\n",
      "\n",
      "Applying argmax() function:\n",
      "7\n",
      "\n",
      "\n",
      "Index of maximum number in flatteded array\n",
      "[30 40 70 80 20 10 50 90 60]\n",
      "\n",
      "\n",
      "Array containing indices of maximum along axis 0:\n",
      "[1 2 0]\n",
      "\n",
      "\n",
      "Array containing indices of maximum along axis 1:\n",
      "[2 0 1]\n",
      "\n",
      "\n",
      "applying argmin() function:\n",
      "5\n",
      "\n",
      "\n"
     ]
    }
   ],
   "source": [
    "#numpy.argmax() and numpy.argmin()\n",
    "import numpy as np\n",
    "a = np.array([[30,40,70],[80,20,10],[50,90,60]])\n",
    "\n",
    "print('Our array is:')\n",
    "print(a)\n",
    "print('\\n')\n",
    "\n",
    "print('Applying argmax() function:')\n",
    "print( np.argmax(a) )\n",
    "print('\\n')\n",
    "\n",
    "print( 'Index of maximum number in flatteded array' )\n",
    "print(a.flatten())\n",
    "print('\\n')\n",
    "\n",
    "print('Array containing indices of maximum along axis 0:')\n",
    "maxindex = np.argmax(a,axis=0)\n",
    "print(maxindex)\n",
    "print('\\n')\n",
    "\n",
    "print('Array containing indices of maximum along axis 1:')\n",
    "maxindex = np.argmax(a,axis=1)\n",
    "print(maxindex)\n",
    "print('\\n')\n",
    "\n",
    "print('applying argmin() function:')\n",
    "minindex=np.argmin(a)\n",
    "print( minindex )\n",
    "print('\\n')"
   ]
  },
  {
   "cell_type": "code",
   "execution_count": 3,
   "metadata": {},
   "outputs": [
    {
     "name": "stdout",
     "output_type": "stream",
     "text": [
      "Our array is:\n",
      "[[30 20  0]\n",
      " [ 0 20 10]\n",
      " [50  0 60]]\n",
      "\n",
      "\n",
      "Applying nonzero() function:\n",
      "(array([0, 0, 1, 1, 2, 2]), array([0, 1, 1, 2, 0, 2]))\n"
     ]
    }
   ],
   "source": [
    "#numpy.nonzero()\n",
    "import numpy as np\n",
    "a = np.array([[30,20,0],[0,20,10],[50,0,60]])\n",
    "\n",
    "print('Our array is:')\n",
    "print(a)\n",
    "print('\\n')\n",
    "\n",
    "print('Applying nonzero() function:')\n",
    "print( np.nonzero(a) )"
   ]
  },
  {
   "cell_type": "code",
   "execution_count": 4,
   "metadata": {},
   "outputs": [
    {
     "name": "stdout",
     "output_type": "stream",
     "text": [
      "Our array is:\n",
      "[[0. 1. 2.]\n",
      " [3. 4. 5.]\n",
      " [6. 7. 8.]]\n",
      "Indices of elements>3\n",
      "(array([1, 1, 2, 2, 2]), array([1, 2, 0, 1, 2]))\n",
      "Use these indices to get elements satisfying the condition\n",
      "[4. 5. 6. 7. 8.]\n"
     ]
    }
   ],
   "source": [
    "#numpy.where()\n",
    "import numpy as np\n",
    "x = np.arange(9.).reshape(3,3)\n",
    "\n",
    "print('Our array is:')\n",
    "print(x)\n",
    "\n",
    "print('Indices of elements>3')\n",
    "y = np.where(x>3)\n",
    "print(y)\n",
    "\n",
    "print('Use these indices to get elements satisfying the condition')\n",
    "print( x[y] )"
   ]
  },
  {
   "cell_type": "code",
   "execution_count": 6,
   "metadata": {},
   "outputs": [
    {
     "name": "stdout",
     "output_type": "stream",
     "text": [
      "Our array is:\n",
      "[[0. 1. 2.]\n",
      " [3. 4. 5.]\n",
      " [6. 7. 8.]]\n",
      "\n",
      "\n",
      "Element-wise value of condition\n",
      "[[ True False  True]\n",
      " [False  True False]\n",
      " [ True False  True]]\n",
      "\n",
      "\n",
      "Extract elements using condtion\n",
      "[0. 2. 4. 6. 8.]\n"
     ]
    }
   ],
   "source": [
    "#Numpy.extract()\n",
    "import numpy as np\n",
    "x = np.arange(9.).reshape(3,3)\n",
    "\n",
    "print('Our array is:')\n",
    "print(x)\n",
    "print('\\n')\n",
    "\n",
    "#define a condition\n",
    "condition = np.mod(x,2) == 0\n",
    "print('Element-wise value of condition')\n",
    "print(condition)\n",
    "print('\\n')\n",
    "\n",
    "print('Extract elements using condtion')\n",
    "print(np.extract(condition,x))"
   ]
  },
  {
   "cell_type": "code",
   "execution_count": 8,
   "metadata": {},
   "outputs": [
    {
     "name": "stdout",
     "output_type": "stream",
     "text": [
      "Our array is:\n",
      "[   1  256 8755]\n",
      "\n",
      "\n",
      "Representation of date in memeory in hexadecimal from:\n",
      "<map object at 0x10f647510>\n",
      "\n",
      "\n",
      "Applying byteswap() function:\n",
      "[  256     1 13090]\n",
      "In hexadecimal form:\n",
      "<map object at 0x10f6478d0>\n"
     ]
    }
   ],
   "source": [
    "#numpy.ndarray.byteswap()\n",
    "import numpy as np\n",
    "\n",
    "a = np.array([1,256,8755],dtype=np.int16)\n",
    "print('Our array is:')\n",
    "print(a)\n",
    "print('\\n')\n",
    "\n",
    "print('Representation of date in memeory in hexadecimal from:')\n",
    "print(map(hex,a))\n",
    "print('\\n')\n",
    "\n",
    "#byteswap() function swape in place by passign true paremeter\n",
    "print('Applying byteswap() function:')\n",
    "print( a.byteswap(True) )\n",
    "print('In hexadecimal form:')\n",
    "print(map(hex,a))\n",
    "\n",
    "#we can see the bytes being swapped"
   ]
  },
  {
   "cell_type": "code",
   "execution_count": 11,
   "metadata": {},
   "outputs": [
    {
     "name": "stdout",
     "output_type": "stream",
     "text": [
      "Our array is:\n",
      "[0 1 2 3 4 5]\n",
      "\n",
      "\n",
      "Applying id() function:\n",
      "4553276352\n",
      "\n",
      "\n",
      "a is assigned to b:\n",
      "[0 1 2 3 4 5]\n",
      "\n",
      "\n",
      "b ha ssam id():\n",
      "4553276352\n",
      "\n",
      "\n",
      "Chnage shape of b:\n",
      "[[0 1 2]\n",
      " [3 4 5]]\n",
      "\n",
      "\n",
      "Shape of a also gets changed:\n",
      "[[0 1 2]\n",
      " [3 4 5]]\n"
     ]
    }
   ],
   "source": [
    "#No Copy\n",
    "import numpy as np\n",
    "\n",
    "a = np.arange(6)\n",
    "print('Our array is:')\n",
    "print(a)\n",
    "print('\\n')\n",
    "\n",
    "print('Applying id() function:')\n",
    "print( id(a) )\n",
    "print('\\n')\n",
    "\n",
    "print('a is assigned to b:')\n",
    "b = a\n",
    "print(b)\n",
    "print('\\n')\n",
    "\n",
    "print('b ha ssam id():')\n",
    "print( id(b) )\n",
    "print('\\n')\n",
    "\n",
    "print('Chnage shape of b:')\n",
    "b.shape = 2,3\n",
    "print(b)\n",
    "print('\\n')\n",
    "\n",
    "print('Shape of a also gets changed:')\n",
    "print(a)"
   ]
  },
  {
   "cell_type": "code",
   "execution_count": 13,
   "metadata": {},
   "outputs": [
    {
     "name": "stdout",
     "output_type": "stream",
     "text": [
      "Array a:\n",
      "[[0 1]\n",
      " [2 3]\n",
      " [4 5]]\n",
      "\n",
      "\n",
      "Create view of a:\n",
      "[[0 1]\n",
      " [2 3]\n",
      " [4 5]]\n",
      "\n",
      "\n",
      "id() for both the arrays are differnet:\n",
      "id() of a:\n",
      "4553225680\n",
      "\n",
      "\n",
      "id() of b:\n",
      "4553226080\n",
      "\n",
      "\n",
      "Shape of b:\n",
      "[[0 1 2]\n",
      " [3 4 5]]\n",
      "\n",
      "\n",
      "Shape of a:\n",
      "[[0 1]\n",
      " [2 3]\n",
      " [4 5]]\n"
     ]
    }
   ],
   "source": [
    "#views or Shallow Copy\n",
    "import numpy as np\n",
    "\n",
    "#To begin with, a is 3x2 array\n",
    "a = np.arange(6).reshape(3,2)\n",
    "print('Array a:')\n",
    "print(a)\n",
    "print('\\n')\n",
    "\n",
    "print('Create view of a:')\n",
    "b = a.view()\n",
    "print(b)\n",
    "print('\\n')\n",
    "\n",
    "print('id() for both the arrays are differnet:')\n",
    "print('id() of a:')\n",
    "print(id(a))\n",
    "print('\\n')\n",
    "\n",
    "print('id() of b:')\n",
    "print(id(b))\n",
    "print('\\n')\n",
    "\n",
    "#Change the shape of b. It does not change the shape of a\n",
    "b.shape=2,3\n",
    "print('Shape of b:')\n",
    "print(b)\n",
    "print('\\n')\n",
    "\n",
    "print('Shape of a:')\n",
    "print(a)"
   ]
  },
  {
   "cell_type": "code",
   "execution_count": 15,
   "metadata": {},
   "outputs": [
    {
     "name": "stdout",
     "output_type": "stream",
     "text": [
      "Our array is:\n",
      "[[10 10]\n",
      " [ 2  2]\n",
      " [ 4  5]]\n",
      "\n",
      "\n",
      "Create a slice:\n",
      "[[10 10]\n",
      " [ 2  2]\n",
      " [ 4  5]]\n"
     ]
    }
   ],
   "source": [
    "#Example\n",
    "import numpy as np\n",
    "\n",
    "a = np.array([[10,10],[2,2],[4,5]])\n",
    "print('Our array is:')\n",
    "print(a)\n",
    "print('\\n')\n",
    "\n",
    "print('Create a slice:')\n",
    "s=a[:,:2]\n",
    "print(s)"
   ]
  },
  {
   "cell_type": "code",
   "execution_count": 17,
   "metadata": {},
   "outputs": [
    {
     "name": "stdout",
     "output_type": "stream",
     "text": [
      "Array a is:\n",
      "[[10 10]\n",
      " [ 2  3]\n",
      " [ 4  5]]\n",
      "\n",
      "\n",
      "Create a deep copy of a:\n",
      "Array b is:\n",
      "[[10 10]\n",
      " [ 2  3]\n",
      " [ 4  5]]\n",
      "\n",
      "\n",
      "Can we write b is a\n",
      "False\n",
      "\n",
      "\n",
      "Change the contente of b:\n",
      "Modified array b:\n",
      "[[100  10]\n",
      " [  2   3]\n",
      " [  4   5]]\n",
      "\n",
      "\n",
      "a remaains unchanged:\n",
      "[[10 10]\n",
      " [ 2  3]\n",
      " [ 4  5]]\n"
     ]
    }
   ],
   "source": [
    "#Deep Copy\n",
    "import numpy as np\n",
    "\n",
    "a = np.array([[10,10],[2,3],[4,5]])\n",
    "print('Array a is:')\n",
    "print(a)\n",
    "print('\\n')\n",
    "\n",
    "print('Create a deep copy of a:')\n",
    "b = a.copy()\n",
    "print('Array b is:')\n",
    "print(b)\n",
    "print('\\n')\n",
    "\n",
    "#b does not share any memory of a\n",
    "print('Can we write b is a')\n",
    "print( b is a )\n",
    "print('\\n')\n",
    "\n",
    "print('Change the contente of b:')\n",
    "b[0,0] = 100\n",
    "print('Modified array b:')\n",
    "print(b)\n",
    "print('\\n')\n",
    "\n",
    "print('a remaains unchanged:')\n",
    "print(a)"
   ]
  },
  {
   "cell_type": "code",
   "execution_count": null,
   "metadata": {},
   "outputs": [],
   "source": []
  }
 ],
 "metadata": {
  "kernelspec": {
   "display_name": "Python 3",
   "language": "python",
   "name": "python3"
  },
  "language_info": {
   "codemirror_mode": {
    "name": "ipython",
    "version": 3
   },
   "file_extension": ".py",
   "mimetype": "text/x-python",
   "name": "python",
   "nbconvert_exporter": "python",
   "pygments_lexer": "ipython3",
   "version": "3.7.4"
  }
 },
 "nbformat": 4,
 "nbformat_minor": 2
}
