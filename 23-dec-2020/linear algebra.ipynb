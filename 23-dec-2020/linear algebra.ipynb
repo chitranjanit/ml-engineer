{
 "cells": [
  {
   "cell_type": "code",
   "execution_count": 1,
   "metadata": {
    "scrolled": true
   },
   "outputs": [
    {
     "data": {
      "text/plain": [
       "array([[37, 40],\n",
       "       [85, 92]])"
      ]
     },
     "execution_count": 1,
     "metadata": {},
     "output_type": "execute_result"
    }
   ],
   "source": [
    "#numpy.dot()\n",
    "import numpy.matlib\n",
    "import numpy as np\n",
    "\n",
    "a = np.array([[1,2],[3,4]])\n",
    "b = np.array([[11,12],[13,14]])\n",
    "\n",
    "np.dot(a,b)"
   ]
  },
  {
   "cell_type": "code",
   "execution_count": 2,
   "metadata": {},
   "outputs": [
    {
     "name": "stdout",
     "output_type": "stream",
     "text": [
      "130\n"
     ]
    }
   ],
   "source": [
    "#numpy.vdot()\n",
    "import numpy as np\n",
    "a = np.array([[1,2],[3,4]])\n",
    "b = np.array([[11,12],[13,14]])\n",
    "print(np.vdot(a,b))"
   ]
  },
  {
   "cell_type": "code",
   "execution_count": 3,
   "metadata": {},
   "outputs": [
    {
     "name": "stdout",
     "output_type": "stream",
     "text": [
      "2\n"
     ]
    }
   ],
   "source": [
    "#numpy.inner()\n",
    "import numpy as np\n",
    "print( np.inner(np.array([1,2,3]),np.array([0,1,0])) )\n",
    "\n",
    "#Equqte to 1*0+2*1+3*0"
   ]
  },
  {
   "cell_type": "code",
   "execution_count": 5,
   "metadata": {},
   "outputs": [
    {
     "name": "stdout",
     "output_type": "stream",
     "text": [
      "Array a:\n",
      "[[1 2]\n",
      " [3 4]]\n",
      "\n",
      "\n",
      "Array b:\n",
      "[[11 12]\n",
      " [13 14]]\n",
      "\n",
      "\n",
      "Inner product:\n",
      "[[35 41]\n",
      " [81 95]]\n"
     ]
    }
   ],
   "source": [
    "#Multi dimensional array example\n",
    "import numpy as np\n",
    "a = np.array([[1,2],[3,4]])\n",
    "\n",
    "print('Array a:')\n",
    "print(a)\n",
    "print('\\n')\n",
    "\n",
    "b = np.array([[11,12],[13,14]])\n",
    "print('Array b:')\n",
    "print(b)\n",
    "print('\\n')\n",
    "\n",
    "print('Inner product:')\n",
    "print(np.inner(a,b))"
   ]
  },
  {
   "cell_type": "code",
   "execution_count": 6,
   "metadata": {},
   "outputs": [
    {
     "name": "stdout",
     "output_type": "stream",
     "text": [
      "[[4 1]\n",
      " [2 2]]\n"
     ]
    }
   ],
   "source": [
    "#numpy.matmul\n",
    "#For 2-D array, it is matrix multiplication\n",
    "import numpy.matlib\n",
    "import numpy as np\n",
    "\n",
    "a = [[1,0],[0,1]]\n",
    "b = [[4,1],[2,2]]\n",
    "\n",
    "print(np.matmul(a,b))"
   ]
  },
  {
   "cell_type": "code",
   "execution_count": 7,
   "metadata": {},
   "outputs": [
    {
     "name": "stdout",
     "output_type": "stream",
     "text": [
      "[1 2]\n",
      "[1 2]\n"
     ]
    }
   ],
   "source": [
    "#2-D mixed with 1-D\n",
    "import numpy.matlib\n",
    "import numpy as np\n",
    "\n",
    "a = [[1,0],[0,1]]\n",
    "b = [1,2]\n",
    "\n",
    "print( np.matmul(a,b) )\n",
    "print( np.matmul(b,a) )"
   ]
  },
  {
   "cell_type": "code",
   "execution_count": 8,
   "metadata": {},
   "outputs": [
    {
     "name": "stdout",
     "output_type": "stream",
     "text": [
      "[[[ 2  3]\n",
      "  [ 6 11]]\n",
      "\n",
      " [[10 19]\n",
      "  [14 27]]]\n"
     ]
    }
   ],
   "source": [
    "#one array having dimenstiona > 2\n",
    "import numpy.matlib\n",
    "import numpy as np\n",
    "\n",
    "a = np.arange(8).reshape(2,2,2)\n",
    "b = np.arange(4).reshape(2,2)\n",
    "\n",
    "print(np.matmul(a,b))"
   ]
  },
  {
   "cell_type": "code",
   "execution_count": 9,
   "metadata": {},
   "outputs": [
    {
     "name": "stdout",
     "output_type": "stream",
     "text": [
      "[-2. -2.]\n"
     ]
    }
   ],
   "source": [
    "#Determinate\n",
    "import numpy as np\n",
    "print( np.linalg.det(a) )"
   ]
  },
  {
   "cell_type": "code",
   "execution_count": 10,
   "metadata": {},
   "outputs": [
    {
     "name": "stdout",
     "output_type": "stream",
     "text": [
      "[[ 6  1  1]\n",
      " [ 4 -2  5]\n",
      " [ 2  8  7]]\n",
      "-306.0\n",
      "-306\n"
     ]
    }
   ],
   "source": [
    "#example\n",
    "import numpy as np\n",
    "b = np.array([[6,1,1],[4,-2,5],[2,8,7]])\n",
    "\n",
    "print(b)\n",
    "print(np.linalg.det(b))\n",
    "print(6*(-2*7-5*8)-1*(4*7-5*2)+1*(4*8 - -2*2))"
   ]
  },
  {
   "cell_type": "code",
   "execution_count": 12,
   "metadata": {},
   "outputs": [
    {
     "name": "stdout",
     "output_type": "stream",
     "text": [
      "[[1 2]\n",
      " [3 4]]\n",
      "\n",
      "\n",
      "[[-2.   1. ]\n",
      " [ 1.5 -0.5]]\n",
      "\n",
      "\n",
      "[[1.00000000e+00 1.11022302e-16]\n",
      " [0.00000000e+00 1.00000000e+00]]\n"
     ]
    }
   ],
   "source": [
    "#numpy.linalg.solve()\n",
    "import numpy as np\n",
    "\n",
    "x = np.array([[1,2],[3,4]])\n",
    "y = np.linalg.inv(x)\n",
    "\n",
    "print(x)\n",
    "print('\\n')\n",
    "print(y)\n",
    "print('\\n')\n",
    "print( np.dot(x,y) )"
   ]
  },
  {
   "cell_type": "code",
   "execution_count": 14,
   "metadata": {},
   "outputs": [
    {
     "name": "stdout",
     "output_type": "stream",
     "text": [
      "Array a:\n",
      "[[ 1  1  1]\n",
      " [ 0  2  5]\n",
      " [ 2  5 -1]]\n",
      "\n",
      "\n",
      "[[ 1.28571429 -0.28571429 -0.14285714]\n",
      " [-0.47619048  0.14285714  0.23809524]\n",
      " [ 0.19047619  0.14285714 -0.0952381 ]]\n",
      "\n",
      "\n",
      "Matrix B is:\n",
      "[[ 6]\n",
      " [-4]\n",
      " [27]]\n",
      "\n",
      "\n",
      "compute A-1B:\n"
     ]
    }
   ],
   "source": [
    "#example 1\n",
    "import numpy as np\n",
    "a = np.array([[1,1,1],[0,2,5],[2,5,-1]])\n",
    "\n",
    "print('Array a:')\n",
    "print(a)\n",
    "print('\\n')\n",
    "\n",
    "ainv = np.linalg.inv(a)\n",
    "print(ainv)\n",
    "print('\\n')\n",
    "\n",
    "print('Matrix B is:')\n",
    "b = np.array([[6],[-4],[27]])\n",
    "print(b)\n",
    "print('\\n')\n",
    "\n",
    "print('compute A-1B:')"
   ]
  },
  {
   "cell_type": "code",
   "execution_count": null,
   "metadata": {},
   "outputs": [],
   "source": [
    "nmbvcbmnh"
   ]
  }
 ],
 "metadata": {
  "kernelspec": {
   "display_name": "Python 3",
   "language": "python",
   "name": "python3"
  },
  "language_info": {
   "codemirror_mode": {
    "name": "ipython",
    "version": 3
   },
   "file_extension": ".py",
   "mimetype": "text/x-python",
   "name": "python",
   "nbconvert_exporter": "python",
   "pygments_lexer": "ipython3",
   "version": "3.7.4"
  }
 },
 "nbformat": 4,
 "nbformat_minor": 2
}
