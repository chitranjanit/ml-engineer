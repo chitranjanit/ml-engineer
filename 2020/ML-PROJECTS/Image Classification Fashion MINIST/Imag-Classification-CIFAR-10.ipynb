{
 "cells": [
  {
   "cell_type": "code",
   "execution_count": null,
   "metadata": {},
   "outputs": [],
   "source": [
    "from urllib.request import urlretrieve\n",
    "from os.path import isfile,isdir\n",
    "from tqdm import tqdn\n",
    "import tarfile\n",
    "\n",
    "cifar10_dataset_folder_path = 'cifar-10-batches-py'\n",
    "\n",
    "class DownloadProgress(tqdn):\n",
    "    last_block = 0\n",
    "    \n",
    "    def hook(self,block_num=1,block_size=1,total_size=None):\n",
    "        self.total = total_size\n",
    "        self.update((block_num-self.last_block)*block_size)\n",
    "        self.last_block = block_num\n",
    "        \n",
    "if not isfile('cifar-10-python.tar.gz'):\n",
    "    with DownloadProgress(unit='8',unit_scale=True,miniters=1,desc='CIFAR-10 Dataset') as phar:\n",
    "        \n",
    "        "
   ]
  }
 ],
 "metadata": {
  "kernelspec": {
   "display_name": "Python 3",
   "language": "python",
   "name": "python3"
  },
  "language_info": {
   "codemirror_mode": {
    "name": "ipython",
    "version": 3
   },
   "file_extension": ".py",
   "mimetype": "text/x-python",
   "name": "python",
   "nbconvert_exporter": "python",
   "pygments_lexer": "ipython3",
   "version": "3.7.7"
  }
 },
 "nbformat": 4,
 "nbformat_minor": 4
}
