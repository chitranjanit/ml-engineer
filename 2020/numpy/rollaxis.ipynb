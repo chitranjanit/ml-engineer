{
 "cells": [
  {
   "cell_type": "code",
   "execution_count": 1,
   "metadata": {},
   "outputs": [
    {
     "name": "stdout",
     "output_type": "stream",
     "text": [
      "The original array:\n",
      "[[[0 1]\n",
      "  [2 3]]\n",
      "\n",
      " [[4 5]\n",
      "  [6 7]]]\n",
      "\n",
      "\n",
      "After applying rollaxis function:\n",
      "[[[0 2]\n",
      "  [4 6]]\n",
      "\n",
      " [[1 3]\n",
      "  [5 7]]]\n",
      "\n",
      "\n",
      "After applying rollaxis function:\n",
      "[[[0 2]\n",
      "  [1 3]]\n",
      "\n",
      " [[4 6]\n",
      "  [5 7]]]\n"
     ]
    }
   ],
   "source": [
    "# It Creates 2 dimensional adarray\n",
    "import numpy as np\n",
    "a = np.arange(8).reshape(2,2,2)\n",
    "print('The original array:')\n",
    "print(a)\n",
    "print('\\n')\n",
    "\n",
    "#to roll axis 2 to axis-0 ( along width to along depth)\n",
    "print('After applying rollaxis function:')\n",
    "print(np.rollaxis(a,2))\n",
    "\n",
    "# to roll axis 0 to 1 ( along width to height )\n",
    "print('\\n')\n",
    "print('After applying rollaxis function:')\n",
    "print( np.rollaxis(a,2,1) )"
   ]
  },
  {
   "cell_type": "code",
   "execution_count": null,
   "metadata": {},
   "outputs": [],
   "source": []
  }
 ],
 "metadata": {
  "kernelspec": {
   "display_name": "Python 3",
   "language": "python",
   "name": "python3"
  },
  "language_info": {
   "codemirror_mode": {
    "name": "ipython",
    "version": 3
   },
   "file_extension": ".py",
   "mimetype": "text/x-python",
   "name": "python",
   "nbconvert_exporter": "python",
   "pygments_lexer": "ipython3",
   "version": "3.7.4"
  }
 },
 "nbformat": 4,
 "nbformat_minor": 2
}
