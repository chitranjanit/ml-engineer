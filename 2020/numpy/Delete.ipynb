{
 "cells": [
  {
   "cell_type": "code",
   "execution_count": 3,
   "metadata": {},
   "outputs": [
    {
     "name": "stdout",
     "output_type": "stream",
     "text": [
      "First array:\n",
      "[[ 0  1  2  3]\n",
      " [ 4  5  6  7]\n",
      " [ 8  9 10 11]]\n",
      "\n",
      "\n",
      "Array flattened before delete operation as axis not used:\n",
      "[ 0  1  2  3  4  6  7  8  9 10 11]\n",
      "\n",
      "\n",
      "Column 2 deleted:\n",
      "[[ 0  1  3]\n",
      " [ 4  5  7]\n",
      " [ 8  9 11]]\n",
      "\n",
      "\n",
      "A slice containing alternate values from array deleted:\n",
      "[ 2  4  6  8 10]\n"
     ]
    }
   ],
   "source": [
    "import numpy as np\n",
    "\n",
    "a = np.arange(12).reshape(3,4)\n",
    "print('First array:')\n",
    "print(a)\n",
    "print('\\n')\n",
    "\n",
    "print('Array flattened before delete operation as axis not used:')\n",
    "print(np.delete(a,5))\n",
    "print('\\n')\n",
    "\n",
    "print('Column 2 deleted:')\n",
    "print(np.delete(a,2,axis=1))\n",
    "print('\\n')\n",
    "\n",
    "print('A slice containing alternate values from array deleted:')\n",
    "a = np.array([1,2,3,4,5,6,7,8,9,10])\n",
    "print( np.delete(a,np.s_[::2]) )"
   ]
  },
  {
   "cell_type": "code",
   "execution_count": 4,
   "metadata": {},
   "outputs": [
    {
     "name": "stdout",
     "output_type": "stream",
     "text": [
      "First array:\n",
      "[5 2 6 2 7 5 6 8 2 9]\n",
      "\n",
      "\n",
      "Unique values of first array:\n",
      "[2 5 6 7 8 9]\n",
      "\n",
      "\n",
      "Unique array and indices array:\n",
      "[1 0 2 4 7 9]\n",
      "\n",
      "\n",
      "We can see each number corresponds to index in original array:\n",
      "[5 2 6 2 7 5 6 8 2 9]\n",
      "\n",
      "\n",
      "Indices of unique array:\n",
      "[2 5 6 7 8 9]\n",
      "\n",
      "\n",
      "Indices are:\n",
      "Indices\n",
      "\n",
      "\n",
      "Reconstruct the original array using indices:\n",
      "[5 2 6 2 7 5 6 8 2 9]\n",
      "\n",
      "\n",
      "Return the count of repetitions of unique elements:\n",
      "[2 5 6 7 8 9]\n",
      "[3 2 2 1 1 1]\n"
     ]
    }
   ],
   "source": [
    "#Example 22\n",
    "a = np.array([5,2,6,2,7,5,6,8,2,9])\n",
    "\n",
    "print('First array:')\n",
    "print(a)\n",
    "print('\\n')\n",
    "\n",
    "print('Unique values of first array:')\n",
    "u = np.unique(a)\n",
    "print(u)\n",
    "print('\\n')\n",
    "\n",
    "print('Unique array and indices array:')\n",
    "u,indices = np.unique(a,return_index=True)\n",
    "print(indices)\n",
    "print('\\n')\n",
    "\n",
    "print('We can see each number corresponds to index in original array:')\n",
    "print(a)\n",
    "print('\\n')\n",
    "\n",
    "print('Indices of unique array:')\n",
    "u,indices = np.unique(a,return_inverse=True)\n",
    "print(u)\n",
    "print('\\n')\n",
    "print('Indices are:')\n",
    "print('Indices')\n",
    "print('\\n')\n",
    "\n",
    "print('Reconstruct the original array using indices:')\n",
    "print(u[indices])\n",
    "print('\\n')\n",
    "\n",
    "print('Return the count of repetitions of unique elements:')\n",
    "u,indices = np.unique(a,return_counts=True)\n",
    "print(u)\n",
    "print(indices)"
   ]
  },
  {
   "cell_type": "code",
   "execution_count": null,
   "metadata": {},
   "outputs": [],
   "source": []
  }
 ],
 "metadata": {
  "kernelspec": {
   "display_name": "Python 3",
   "language": "python",
   "name": "python3"
  },
  "language_info": {
   "codemirror_mode": {
    "name": "ipython",
    "version": 3
   },
   "file_extension": ".py",
   "mimetype": "text/x-python",
   "name": "python",
   "nbconvert_exporter": "python",
   "pygments_lexer": "ipython3",
   "version": "3.7.4"
  }
 },
 "nbformat": 4,
 "nbformat_minor": 2
}
