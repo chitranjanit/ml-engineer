{
 "cells": [
  {
   "cell_type": "code",
   "execution_count": 1,
   "metadata": {},
   "outputs": [
    {
     "name": "stdout",
     "output_type": "stream",
     "text": [
      "Concatenate two strings:\n",
      "['helloxyz']\n",
      "\n",
      "\n",
      "Concatenation example:\n",
      "['helloabc' 'hixyz']\n"
     ]
    }
   ],
   "source": [
    "# numpy.char.add()\n",
    "#This function performs elementwise string concatenation.\n",
    "import numpy as np\n",
    "print('Concatenate two strings:')\n",
    "print( np.char.add(['hello'],['xyz']) )\n",
    "print('\\n')\n",
    "\n",
    "print('Concatenation example:')\n",
    "print( np.char.add(['hello','hi'],['abc','xyz']) )"
   ]
  },
  {
   "cell_type": "code",
   "execution_count": 3,
   "metadata": {},
   "outputs": [
    {
     "name": "stdout",
     "output_type": "stream",
     "text": [
      "HelloHelloHelloHelloHelloHelloHelloHelloHelloHello\n"
     ]
    }
   ],
   "source": [
    "#numpy.char.multiply()\n",
    "#this function performs multiple concatenation.\n",
    "import numpy as np\n",
    "print( np.char.multiply('Hello',10) )"
   ]
  },
  {
   "cell_type": "code",
   "execution_count": 9,
   "metadata": {},
   "outputs": [
    {
     "name": "stdout",
     "output_type": "stream",
     "text": [
      "------------hello-------------\n"
     ]
    }
   ],
   "source": [
    "#numpy.char.center()\n",
    "import numpy as np\n",
    "#np.char.center(arr,width,fillchar)\n",
    "\n",
    "print( np.char.center('hello',30,fillchar='-') )"
   ]
  },
  {
   "cell_type": "code",
   "execution_count": 10,
   "metadata": {},
   "outputs": [
    {
     "name": "stdout",
     "output_type": "stream",
     "text": [
      "Hello How Are You?\n"
     ]
    }
   ],
   "source": [
    "#numpy.char.title()\n",
    "import numpy as np\n",
    "print( np.char.title('hello how are you?') )"
   ]
  },
  {
   "cell_type": "code",
   "execution_count": 11,
   "metadata": {},
   "outputs": [
    {
     "name": "stdout",
     "output_type": "stream",
     "text": [
      "['hello' 'word']\n",
      "hello\n"
     ]
    }
   ],
   "source": [
    "#numpy.char.lower()\n",
    "import numpy as np\n",
    "\n",
    "print( np.char.lower(['HELLO','WORD']) )\n",
    "print( np.char.lower('HELLO') )"
   ]
  },
  {
   "cell_type": "code",
   "execution_count": 12,
   "metadata": {},
   "outputs": [
    {
     "name": "stdout",
     "output_type": "stream",
     "text": [
      "HELLO\n",
      "['HELLO' 'WORLD']\n"
     ]
    }
   ],
   "source": [
    "#numpy.char.upper()\n",
    "import numpy as np\n",
    "print( np.char.upper('hello') )\n",
    "print( np.char.upper(['hello','world']) )"
   ]
  },
  {
   "cell_type": "code",
   "execution_count": 15,
   "metadata": {},
   "outputs": [
    {
     "name": "stdout",
     "output_type": "stream",
     "text": [
      "['hello', 'how', 'are', 'you?']\n",
      "['TutorialsPoint', 'Hyderabad', 'Telangana']\n"
     ]
    }
   ],
   "source": [
    "#numpy.char.split()\n",
    "import numpy as np\n",
    "print( np.char.split('hello how are you?') )\n",
    "print ( np.char.split ('TutorialsPoint,Hyderabad,Telangana', sep=','))"
   ]
  },
  {
   "cell_type": "code",
   "execution_count": 16,
   "metadata": {},
   "outputs": [
    {
     "name": "stdout",
     "output_type": "stream",
     "text": [
      "['hello', 'how are you?']\n",
      "['hello', 'how are you?']\n"
     ]
    }
   ],
   "source": [
    "#numpy.char.splitlines()\n",
    "#This function returns a list of elements in the array\n",
    "#,breaking at line boundaries.\n",
    "import numpy as np\n",
    "print( np.char.splitlines('hello\\nhow are you?') )\n",
    "print( np.char.splitlines('hello\\rhow are you?') )"
   ]
  },
  {
   "cell_type": "code",
   "execution_count": 17,
   "metadata": {},
   "outputs": [
    {
     "name": "stdout",
     "output_type": "stream",
     "text": [
      "shok aror\n",
      "['ror' 'dmin' 'jav']\n"
     ]
    }
   ],
   "source": [
    "#numpy.char.strip()\n",
    "import numpy as np\n",
    "print( np.char.strip('ashok arora','a') )\n",
    "print( np.char.strip(['arora','admin','java'],'a') )"
   ]
  },
  {
   "cell_type": "code",
   "execution_count": 18,
   "metadata": {},
   "outputs": [
    {
     "name": "stdout",
     "output_type": "stream",
     "text": [
      "d:m:y\n",
      "['d:m:y' 'y-m-d']\n"
     ]
    }
   ],
   "source": [
    "#numpy.char.join()\n",
    "#this method returns a string in which the individual characters are joined by seperater character specifed\n",
    "import numpy as np\n",
    "print( np.char.join(':','dmy') )\n",
    "print( np.char.join([':','-'],['dmy','ymd']) )"
   ]
  },
  {
   "cell_type": "code",
   "execution_count": 19,
   "metadata": {},
   "outputs": [
    {
     "name": "stdout",
     "output_type": "stream",
     "text": [
      "He was a good boy\n"
     ]
    }
   ],
   "source": [
    "#numpy.char.replace()\n",
    "#this function reutrn a new copy of the input stirng in which\n",
    "# all occurrences of the sequence of charcters\n",
    "# replaced by another given sequence.\n",
    "import numpy as np\n",
    "print( np.char.replace('He is a good boy','is','was') )"
   ]
  },
  {
   "cell_type": "code",
   "execution_count": 20,
   "metadata": {},
   "outputs": [
    {
     "name": "stdout",
     "output_type": "stream",
     "text": [
      "b'\\x88\\x85\\x93\\x93\\x96'\n",
      "hello\n"
     ]
    }
   ],
   "source": [
    "#numpy.char.encode()\n",
    "import numpy as np\n",
    "a = np.char.encode('hello','cp500')\n",
    "print(a)\n",
    "\n",
    "print( np.char.decode(a,'cp500') )"
   ]
  },
  {
   "cell_type": "code",
   "execution_count": null,
   "metadata": {},
   "outputs": [],
   "source": []
  }
 ],
 "metadata": {
  "kernelspec": {
   "display_name": "Python 3",
   "language": "python",
   "name": "python3"
  },
  "language_info": {
   "codemirror_mode": {
    "name": "ipython",
    "version": 3
   },
   "file_extension": ".py",
   "mimetype": "text/x-python",
   "name": "python",
   "nbconvert_exporter": "python",
   "pygments_lexer": "ipython3",
   "version": "3.7.4"
  }
 },
 "nbformat": 4,
 "nbformat_minor": 2
}
