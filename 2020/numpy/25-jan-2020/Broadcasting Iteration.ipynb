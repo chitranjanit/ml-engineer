{
 "cells": [
  {
   "cell_type": "code",
   "execution_count": 2,
   "metadata": {},
   "outputs": [
    {
     "name": "stdout",
     "output_type": "stream",
     "text": [
      "First array is:\n",
      "[[ 0  5 10 15]\n",
      " [20 25 30 35]\n",
      " [40 45 50 55]]\n",
      "\n",
      "\n",
      "Second array is:\n",
      "[1 2 3 4]\n",
      "\n",
      "\n",
      "Modified array is:\n",
      "0:1\n",
      "5:2\n",
      "10:3\n",
      "15:4\n",
      "20:1\n",
      "25:2\n",
      "30:3\n",
      "35:4\n",
      "40:1\n",
      "45:2\n",
      "50:3\n",
      "55:4\n"
     ]
    }
   ],
   "source": [
    "#Example 7\n",
    "import numpy as np\n",
    "\n",
    "a = np.arange(0,60,5)\n",
    "a = a.reshape(3,4)\n",
    "\n",
    "print('First array is:')\n",
    "print(a)\n",
    "print('\\n')\n",
    "\n",
    "print('Second array is:')\n",
    "b = np.array([1,2,3,4],dtype=int)\n",
    "print(b)\n",
    "\n",
    "print('\\n')\n",
    "print('Modified array is:')\n",
    "for x,y in np.nditer([a,b]):\n",
    "    print(\"%d:%d\" %(x,y))"
   ]
  },
  {
   "cell_type": "code",
   "execution_count": 3,
   "metadata": {},
   "outputs": [
    {
     "name": "stdout",
     "output_type": "stream",
     "text": [
      "The orignal array:\n",
      "[[[0 1]\n",
      "  [2 3]]\n",
      "\n",
      " [[4 5]\n",
      "  [6 7]]]\n",
      "\n",
      "\n",
      "the array after applying the wapaxes function\n",
      "[[[0 4]\n",
      "  [2 6]]\n",
      "\n",
      " [[1 5]\n",
      "  [3 7]]]\n"
     ]
    }
   ],
   "source": [
    "#numpy.swapaxes\n",
    "#Example 7\n",
    "# It creates a 3 dimensional ndarray\n",
    "import numpy as np\n",
    "a = np.arange(8).reshape(2,2,2)\n",
    "\n",
    "print('The orignal array:')\n",
    "print(a)\n",
    "print('\\n')\n",
    "\n",
    "#now swap numbers between axis 0( along depth ) and axis 2 ( along width )\n",
    "print('the array after applying the wapaxes function')\n",
    "print( np.swapaxes(a,2,0) )"
   ]
  },
  {
   "cell_type": "code",
   "execution_count": 4,
   "metadata": {},
   "outputs": [
    {
     "name": "stdout",
     "output_type": "stream",
     "text": [
      "The original array:\n",
      "[[[0 1]\n",
      "  [2 3]]\n",
      "\n",
      " [[4 5]\n",
      "  [6 7]]]\n",
      "\n",
      "\n",
      "After applying rollaxis function:\n",
      "[[[0 2]\n",
      "  [4 6]]\n",
      "\n",
      " [[1 3]\n",
      "  [5 7]]]\n",
      "\n",
      "\n",
      "After applying rollaxis function:\n",
      "[[[0 2]\n",
      "  [1 3]]\n",
      "\n",
      " [[4 6]\n",
      "  [5 7]]]\n"
     ]
    }
   ],
   "source": [
    "#numpy.rollaxis \n",
    "#It creates 3 dimensional ndarray\n",
    "import numpy as np\n",
    "a = np.arange(8).reshape(2,2,2)\n",
    "\n",
    "print('The original array:')\n",
    "print(a)\n",
    "print('\\n')\n",
    "\n",
    "#to roll axis-2 to axis-0 ( along width to along depth )\n",
    "print( 'After applying rollaxis function:' )\n",
    "print( np.rollaxis(a,2) )\n",
    "\n",
    "#To roll axis 0 to 1 ( along with to height )\n",
    "print('\\n')\n",
    "print('After applying rollaxis function:')\n",
    "print( np.rollaxis(a,2,1) )\n",
    "\n"
   ]
  },
  {
   "cell_type": "code",
   "execution_count": 5,
   "metadata": {},
   "outputs": [
    {
     "name": "stdout",
     "output_type": "stream",
     "text": [
      "broadcast x agains y:\n"
     ]
    },
    {
     "ename": "AttributeError",
     "evalue": "'numpy.flatiter' object has no attribute 'next'",
     "output_type": "error",
     "traceback": [
      "\u001b[0;31m---------------------------------------------------------------------------\u001b[0m",
      "\u001b[0;31mAttributeError\u001b[0m                            Traceback (most recent call last)",
      "\u001b[0;32m<ipython-input-5-f9f9bc88cfed>\u001b[0m in \u001b[0;36m<module>\u001b[0;34m\u001b[0m\n\u001b[1;32m     11\u001b[0m \u001b[0mprint\u001b[0m\u001b[0;34m(\u001b[0m\u001b[0;34m'broadcast x agains y:'\u001b[0m\u001b[0;34m)\u001b[0m\u001b[0;34m\u001b[0m\u001b[0;34m\u001b[0m\u001b[0m\n\u001b[1;32m     12\u001b[0m \u001b[0mr\u001b[0m\u001b[0;34m,\u001b[0m\u001b[0mc\u001b[0m \u001b[0;34m=\u001b[0m \u001b[0mb\u001b[0m\u001b[0;34m.\u001b[0m\u001b[0miters\u001b[0m\u001b[0;34m\u001b[0m\u001b[0;34m\u001b[0m\u001b[0m\n\u001b[0;32m---> 13\u001b[0;31m \u001b[0mprint\u001b[0m\u001b[0;34m(\u001b[0m \u001b[0mr\u001b[0m\u001b[0;34m.\u001b[0m\u001b[0mnext\u001b[0m\u001b[0;34m(\u001b[0m\u001b[0;34m)\u001b[0m\u001b[0;34m,\u001b[0m\u001b[0mc\u001b[0m\u001b[0;34m.\u001b[0m\u001b[0mnext\u001b[0m\u001b[0;34m(\u001b[0m\u001b[0;34m)\u001b[0m \u001b[0;34m)\u001b[0m\u001b[0;34m\u001b[0m\u001b[0;34m\u001b[0m\u001b[0m\n\u001b[0m\u001b[1;32m     14\u001b[0m \u001b[0mprint\u001b[0m\u001b[0;34m(\u001b[0m \u001b[0mr\u001b[0m\u001b[0;34m.\u001b[0m\u001b[0mnext\u001b[0m\u001b[0;34m(\u001b[0m\u001b[0;34m)\u001b[0m\u001b[0;34m,\u001b[0m\u001b[0mc\u001b[0m\u001b[0;34m.\u001b[0m\u001b[0mnext\u001b[0m\u001b[0;34m(\u001b[0m\u001b[0;34m)\u001b[0m \u001b[0;34m)\u001b[0m\u001b[0;34m\u001b[0m\u001b[0;34m\u001b[0m\u001b[0m\n\u001b[1;32m     15\u001b[0m \u001b[0mprint\u001b[0m\u001b[0;34m(\u001b[0m\u001b[0;34m'\\n'\u001b[0m\u001b[0;34m)\u001b[0m\u001b[0;34m\u001b[0m\u001b[0;34m\u001b[0m\u001b[0m\n",
      "\u001b[0;31mAttributeError\u001b[0m: 'numpy.flatiter' object has no attribute 'next'"
     ]
    }
   ],
   "source": [
    "#Example 9\n",
    "import numpy as np\n",
    "\n",
    "x = np.array([[1],[2],[3]])\n",
    "y = np.array([4,5,6])\n",
    "\n",
    "#tobroadcast x against y\n",
    "b = np.broadcast(x,y)\n",
    "\n",
    "#it has an iterator property, a tuple of iterators alons self's\n",
    "print('broadcast x agains y:')\n",
    "r,c = b.iters\n",
    "print( r.next(),c.next() )\n",
    "print( r.next(),c.next() )\n",
    "print('\\n')\n",
    "\n",
    "#Shape attribute returns the shape of broadcast object\n",
    "print( 'The shape of the broadcast object:' )\n",
    "print( b.shape )\n",
    "print('\\n')\n",
    "\n",
    "#to add x and y manually using broadcast\n",
    "b = np.broadcast(x,y)\n",
    "c = np.empty(b.shape)\n",
    "\n",
    "print('Add x and y manually using broadcast:')\n",
    "print(c.shape)\n",
    "print('\\n')\n",
    "\n",
    "#same result obtained by Numpy's built in broadcasting support\n",
    "print( 'The summation of x and y:' )\n",
    "print(x+y)"
   ]
  },
  {
   "cell_type": "code",
   "execution_count": 6,
   "metadata": {},
   "outputs": [
    {
     "name": "stdout",
     "output_type": "stream",
     "text": [
      "The original array:\n",
      "[[0 1 2 3]]\n",
      "\n",
      "\n",
      "After applying the broadcast_to fucntion:\n",
      "[[0 1 2 3]\n",
      " [0 1 2 3]\n",
      " [0 1 2 3]\n",
      " [0 1 2 3]]\n"
     ]
    }
   ],
   "source": [
    "#numpy.broadcast_to\n",
    "import numpy as np\n",
    "a = np.arange(4).reshape(1,4)\n",
    "\n",
    "print('The original array:')\n",
    "print(a)\n",
    "print('\\n')\n",
    "\n",
    "print('After applying the broadcast_to fucntion:')\n",
    "print( np.broadcast_to(a,(4,4)) )"
   ]
  },
  {
   "cell_type": "code",
   "execution_count": 7,
   "metadata": {},
   "outputs": [
    {
     "name": "stdout",
     "output_type": "stream",
     "text": [
      "Array X:\n",
      "[[[0 1 2]\n",
      "  [3 4 5]\n",
      "  [6 7 8]]]\n",
      "\n",
      "\n",
      "Array Y:\n",
      "[[0 1 2]\n",
      " [3 4 5]\n",
      " [6 7 8]]\n",
      "\n",
      "\n",
      "The shapes of x and y array:\n",
      "(1, 3, 3) (3, 3)\n"
     ]
    }
   ],
   "source": [
    "#numpy.squeeze\n",
    "import numpy as np\n",
    "x = np.arange(9).reshape(1,3,3)\n",
    "\n",
    "print('Array X:')\n",
    "print(x)\n",
    "print('\\n')\n",
    "\n",
    "y = np.squeeze(x)\n",
    "print('Array Y:')\n",
    "print(y)\n",
    "print('\\n')\n",
    "\n",
    "print('The shapes of x and y array:')\n",
    "print( x.shape,y.shape )"
   ]
  },
  {
   "cell_type": "code",
   "execution_count": 10,
   "metadata": {},
   "outputs": [
    {
     "name": "stdout",
     "output_type": "stream",
     "text": [
      "First array:\n",
      "[[1 2]\n",
      " [3 4]]\n",
      "\n",
      "\n",
      "Second array:\n",
      "[[5 6]\n",
      " [7 8]]\n",
      "\n",
      "\n",
      "Joining the two arrays along axis 0:\n",
      "[[1 2]\n",
      " [3 4]\n",
      " [5 6]\n",
      " [7 8]]\n",
      "\n",
      "\n",
      "Joining the two array along axis 1:\n",
      "[[1 2 5 6]\n",
      " [3 4 7 8]]\n"
     ]
    }
   ],
   "source": [
    "#numpy.concatenate\n",
    "import numpy as np\n",
    "a = np.array([[1,2],[3,4]])\n",
    "\n",
    "print('First array:')\n",
    "print(a)\n",
    "print('\\n')\n",
    "\n",
    "b = np.array([[5,6],[7,8]])\n",
    "print('Second array:')\n",
    "print(b)\n",
    "print('\\n')\n",
    "\n",
    "#both the arrays are of same demensions\n",
    "print('Joining the two arrays along axis 0:')\n",
    "print( np.concatenate((a,b)) )\n",
    "print('\\n')\n",
    "\n",
    "print('Joining the two array along axis 1:')\n",
    "print( np.concatenate((a,b),axis=1) )"
   ]
  },
  {
   "cell_type": "code",
   "execution_count": null,
   "metadata": {},
   "outputs": [],
   "source": [
    "#numpy.stack\n"
   ]
  }
 ],
 "metadata": {
  "kernelspec": {
   "display_name": "Python 3",
   "language": "python",
   "name": "python3"
  },
  "language_info": {
   "codemirror_mode": {
    "name": "ipython",
    "version": 3
   },
   "file_extension": ".py",
   "mimetype": "text/x-python",
   "name": "python",
   "nbconvert_exporter": "python",
   "pygments_lexer": "ipython3",
   "version": "3.7.4"
  }
 },
 "nbformat": 4,
 "nbformat_minor": 2
}
