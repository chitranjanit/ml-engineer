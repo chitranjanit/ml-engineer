{
 "cells": [
  {
   "cell_type": "code",
   "execution_count": 4,
   "metadata": {},
   "outputs": [
    {
     "name": "stdout",
     "output_type": "stream",
     "text": [
      "The original array:\n",
      "[ 0  1  2  3  4  5  6  7  8  9 10 11 12 13 14 15]\n",
      "\n",
      "\n",
      "The modified array:\n",
      "[[ 0  1  2  3]\n",
      " [ 4  5  6  7]\n",
      " [ 8  9 10 11]\n",
      " [12 13 14 15]]\n"
     ]
    }
   ],
   "source": [
    "#numpy.reshape\n",
    "import numpy as np\n",
    "a = np.arange(16)\n",
    "\n",
    "print('The original array:')\n",
    "print(a)\n",
    "print('\\n')\n",
    "\n",
    "b = a.reshape(4,4)\n",
    "print('The modified array:')\n",
    "print(b)"
   ]
  },
  {
   "cell_type": "code",
   "execution_count": 5,
   "metadata": {},
   "outputs": [
    {
     "name": "stdout",
     "output_type": "stream",
     "text": [
      "the original array:\n",
      "[[0 1 2 3]\n",
      " [4 5 6 7]]\n",
      "\n",
      "\n",
      "After applying the flat function:\n",
      "5\n"
     ]
    }
   ],
   "source": [
    "#numpy.ndarray.flat\n",
    "import numpy as np\n",
    "a = np.arange(8).reshape(2,4)\n",
    "\n",
    "\n",
    "print('the original array:')\n",
    "print(a)\n",
    "print('\\n')\n",
    "\n",
    "print('After applying the flat function:')\n",
    "\n",
    "#Returns element correspondin the index in flatted array\n",
    "print( a.flat[5] )"
   ]
  },
  {
   "cell_type": "code",
   "execution_count": 8,
   "metadata": {},
   "outputs": [
    {
     "name": "stdout",
     "output_type": "stream",
     "text": [
      "The original array is:\n",
      "[[0 1 2 3]\n",
      " [4 5 6 7]]\n",
      "\n",
      "\n",
      "the flattened array is:\n",
      "[0 1 2 3 4 5 6 7]\n",
      "\n",
      "\n",
      "The flattened array is f-style ordering:\n",
      "[0 4 1 5 2 6 3 7]\n"
     ]
    }
   ],
   "source": [
    "#numpy.ndarray.flatten\n",
    "import numpy as np\n",
    "a = np.arange(8).reshape(2,4)\n",
    "\n",
    "print('The original array is:')\n",
    "print(a)\n",
    "print('\\n')\n",
    "\n",
    "#default is column-major\n",
    "print('the flattened array is:')\n",
    "print(a.flatten())\n",
    "print('\\n')\n",
    "\n",
    "print('The flattened array is f-style ordering:')\n",
    "print( a.flatten(order='F') )"
   ]
  },
  {
   "cell_type": "code",
   "execution_count": 9,
   "metadata": {},
   "outputs": [
    {
     "name": "stdout",
     "output_type": "stream",
     "text": [
      "The original array is:\n",
      "[[0 1 2 3]\n",
      " [4 5 6 7]]\n",
      "\n",
      "\n",
      "The transposed array is:\n",
      "[[0 4]\n",
      " [1 5]\n",
      " [2 6]\n",
      " [3 7]]\n"
     ]
    }
   ],
   "source": [
    "#numpy.raval\n",
    "import numpy as np\n",
    "\n",
    "a = np.arange(8).reshape(2,4)\n",
    "\n",
    "print('The original array is:')\n",
    "print(a)\n",
    "\n",
    "print('\\n')\n",
    "print('The transposed array is:')\n",
    "print( np.transpose(a) )"
   ]
  },
  {
   "cell_type": "code",
   "execution_count": 10,
   "metadata": {},
   "outputs": [
    {
     "name": "stdout",
     "output_type": "stream",
     "text": [
      "The original array is:\n",
      "[[ 0  1  2  3]\n",
      " [ 4  5  6  7]\n",
      " [ 8  9 10 11]]\n",
      "\n",
      "\n",
      "Array after applying the function:\n",
      "[[ 0  4  8]\n",
      " [ 1  5  9]\n",
      " [ 2  6 10]\n",
      " [ 3  7 11]]\n"
     ]
    }
   ],
   "source": [
    "#numpy.ndarray.T\n",
    "import numpy as np\n",
    "a = np.arange(12).reshape(3,4)\n",
    "\n",
    "\n",
    "print('The original array is:')\n",
    "print(a)\n",
    "print('\\n')\n",
    "\n",
    "print('Array after applying the function:')\n",
    "print(a.T)"
   ]
  },
  {
   "cell_type": "code",
   "execution_count": null,
   "metadata": {},
   "outputs": [],
   "source": []
  }
 ],
 "metadata": {
  "kernelspec": {
   "display_name": "Python 3",
   "language": "python",
   "name": "python3"
  },
  "language_info": {
   "codemirror_mode": {
    "name": "ipython",
    "version": 3
   },
   "file_extension": ".py",
   "mimetype": "text/x-python",
   "name": "python",
   "nbconvert_exporter": "python",
   "pygments_lexer": "ipython3",
   "version": "3.7.4"
  }
 },
 "nbformat": 4,
 "nbformat_minor": 2
}
