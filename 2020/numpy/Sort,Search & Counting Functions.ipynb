{
 "cells": [
  {
   "cell_type": "code",
   "execution_count": 1,
   "metadata": {},
   "outputs": [
    {
     "name": "stdout",
     "output_type": "stream",
     "text": [
      "Our array is:\n",
      "[[3 7]\n",
      " [9 1]]\n",
      "\n",
      "\n",
      "Applying sort() function:\n",
      "[[3 7]\n",
      " [1 9]]\n",
      "\n",
      "\n",
      "Our array is:\n",
      "[(b'raju', 21) (b'anil', 25) (b'Ravi', 17) (b'amar', 27)]\n",
      "\n",
      "\n",
      "Order by name:\n",
      "[(b'Ravi', 17) (b'amar', 27) (b'anil', 25) (b'raju', 21)]\n"
     ]
    }
   ],
   "source": [
    "#numpy.sort()\n",
    "import numpy as np\n",
    "a = np.array([[3,7],[9,1]])\n",
    "\n",
    "print('Our array is:')\n",
    "print(a)\n",
    "print('\\n')\n",
    "\n",
    "print('Applying sort() function:')\n",
    "print(np.sort(a))\n",
    "print('\\n')\n",
    "\n",
    "#Order parameter in sort function\n",
    "dt = np.dtype([('name','S10'),('age','int')])\n",
    "a = np.array([(\"raju\",21),(\"anil\",25),('Ravi',17),(\"amar\",27)],dtype=dt)\n",
    "\n",
    "print('Our array is:')\n",
    "print(a)\n",
    "print('\\n')\n",
    "\n",
    "print('Order by name:')\n",
    "print( np.sort(a,order='name') )"
   ]
  },
  {
   "cell_type": "code",
   "execution_count": 2,
   "metadata": {},
   "outputs": [
    {
     "ename": "SyntaxError",
     "evalue": "invalid syntax (<ipython-input-2-9fbdcb698ccb>, line 16)",
     "output_type": "error",
     "traceback": [
      "\u001b[0;36m  File \u001b[0;32m\"<ipython-input-2-9fbdcb698ccb>\"\u001b[0;36m, line \u001b[0;32m16\u001b[0m\n\u001b[0;31m    print(i in y):\u001b[0m\n\u001b[0m                  ^\u001b[0m\n\u001b[0;31mSyntaxError\u001b[0m\u001b[0;31m:\u001b[0m invalid syntax\n"
     ]
    }
   ],
   "source": [
    "#numpy.argsort()\n",
    "import numpy as np\n",
    "\n",
    "x = np.array([3,1,2])\n",
    "\n",
    "print('Our array is:')\n",
    "print(x)\n",
    "print('\\n')\n",
    "\n",
    "print('Applying argsort() to x:')\n",
    "y = np.argsort(x)\n",
    "print(y)\n",
    "print('\\n')\n",
    "\n",
    "print('Reconstruct original array in sorted order:')\n",
    "print(i in y):\n",
    "    print( x[i] )"
   ]
  },
  {
   "cell_type": "code",
   "execution_count": 4,
   "metadata": {},
   "outputs": [
    {
     "name": "stdout",
     "output_type": "stream",
     "text": [
      "Applying lexsort() function:\n",
      "[3 1 0 2]\n",
      "\n",
      "\n",
      "Use this index to get sorted data:\n",
      "['amar,f.y.', 'anil,s.y.', 'raju,f.y.', 'ravi,s.y.']\n"
     ]
    }
   ],
   "source": [
    "#numpy.lexsort()\n",
    "import numpy as np\n",
    "\n",
    "nm = ('raju','anil','ravi','amar')\n",
    "dv = ('f.y.','s.y.','s.y.','f.y.')\n",
    "\n",
    "ind = np.lexsort((dv,nm))\n",
    "print('Applying lexsort() function:')\n",
    "print(ind)\n",
    "print('\\n')\n",
    "\n",
    "print('Use this index to get sorted data:')\n",
    "print( [nm[i]+\",\"+dv[i] for i in ind] )"
   ]
  },
  {
   "cell_type": "code",
   "execution_count": 5,
   "metadata": {},
   "outputs": [
    {
     "name": "stdout",
     "output_type": "stream",
     "text": [
      "Our array is:\n",
      "[[30 40  0]\n",
      " [ 0 20 10]\n",
      " [50  0 60]]\n",
      "\n",
      "\n",
      "Applying nonzero() function:\n",
      "(array([0, 0, 1, 1, 2, 2]), array([0, 1, 1, 2, 0, 2]))\n"
     ]
    }
   ],
   "source": [
    "#numpy.nonzero()\n",
    "import numpy as np\n",
    "\n",
    "a = np.array([[30,40,0],[0,20,10],[50,0,60]])\n",
    "print('Our array is:')\n",
    "print(a)\n",
    "print('\\n')\n",
    "\n",
    "print('Applying nonzero() function:')\n",
    "print(np.nonzero(a))"
   ]
  },
  {
   "cell_type": "code",
   "execution_count": 7,
   "metadata": {},
   "outputs": [
    {
     "name": "stdout",
     "output_type": "stream",
     "text": [
      "Our array is:\n",
      "[[0 1 2]\n",
      " [3 4 5]\n",
      " [6 7 8]]\n",
      "\n",
      "\n",
      "Indices of elements > 3\n",
      "(array([1, 1, 2, 2, 2]), array([1, 2, 0, 1, 2]))\n",
      "\n",
      "\n",
      "Use these indices to get elements satisfiying the condtion\n",
      "[4 5 6 7 8]\n"
     ]
    }
   ],
   "source": [
    "#numpy.where()\n",
    "import numpy as np\n",
    "\n",
    "x = np.arange(9).reshape(3,3)\n",
    "print('Our array is:')\n",
    "print(x)\n",
    "print('\\n')\n",
    "\n",
    "print('Indices of elements > 3')\n",
    "y = np.where(x>3)\n",
    "print(y)\n",
    "print('\\n')\n",
    "\n",
    "print('Use these indices to get elements satisfiying the condtion')\n",
    "print(x[y])"
   ]
  },
  {
   "cell_type": "code",
   "execution_count": 8,
   "metadata": {},
   "outputs": [
    {
     "name": "stdout",
     "output_type": "stream",
     "text": [
      "Our array is:\n",
      "[[0 1 2]\n",
      " [3 4 5]\n",
      " [6 7 8]]\n",
      "Element wise value of condtion\n",
      "[[ True False  True]\n",
      " [False  True False]\n",
      " [ True False  True]]\n"
     ]
    },
    {
     "ename": "ValueError",
     "evalue": "operands could not be broadcast together with shapes (3,3) (2,5) ",
     "output_type": "error",
     "traceback": [
      "\u001b[0;31m---------------------------------------------------------------------------\u001b[0m",
      "\u001b[0;31mValueError\u001b[0m                                Traceback (most recent call last)",
      "\u001b[0;32m<ipython-input-8-e7d84632bb3e>\u001b[0m in \u001b[0;36m<module>\u001b[0;34m\u001b[0m\n\u001b[1;32m     12\u001b[0m \u001b[0;34m\u001b[0m\u001b[0m\n\u001b[1;32m     13\u001b[0m \u001b[0;31m#Define a condition\u001b[0m\u001b[0;34m\u001b[0m\u001b[0;34m\u001b[0m\u001b[0;34m\u001b[0m\u001b[0m\n\u001b[0;32m---> 14\u001b[0;31m \u001b[0mcondition\u001b[0m \u001b[0;34m=\u001b[0m \u001b[0mnp\u001b[0m\u001b[0;34m.\u001b[0m\u001b[0mmod\u001b[0m\u001b[0;34m(\u001b[0m\u001b[0mx\u001b[0m\u001b[0;34m,\u001b[0m\u001b[0my\u001b[0m\u001b[0;34m)\u001b[0m \u001b[0;34m==\u001b[0m \u001b[0;36m0\u001b[0m\u001b[0;34m\u001b[0m\u001b[0;34m\u001b[0m\u001b[0m\n\u001b[0m\u001b[1;32m     15\u001b[0m \u001b[0mprint\u001b[0m\u001b[0;34m(\u001b[0m\u001b[0;34m'Element wise value of condtion'\u001b[0m\u001b[0;34m)\u001b[0m\u001b[0;34m\u001b[0m\u001b[0;34m\u001b[0m\u001b[0m\n\u001b[1;32m     16\u001b[0m \u001b[0mprint\u001b[0m\u001b[0;34m(\u001b[0m\u001b[0mcondition\u001b[0m\u001b[0;34m)\u001b[0m\u001b[0;34m\u001b[0m\u001b[0;34m\u001b[0m\u001b[0m\n",
      "\u001b[0;31mValueError\u001b[0m: operands could not be broadcast together with shapes (3,3) (2,5) "
     ]
    }
   ],
   "source": [
    "#numpy.extract()\n",
    "import numpy as np\n",
    "\n",
    "x = np.arange(9).reshape(3,3)\n",
    "print('Our array is:')\n",
    "print(x)\n",
    "\n",
    "#Define a condtion\n",
    "condition = np.mod(x,2)==0\n",
    "print('Element wise value of condtion')\n",
    "print(condition)\n",
    "\n",
    "#Define a condition\n",
    "condition = np.mod(x,y) == 0\n",
    "print('Element wise value of condtion')\n",
    "print(condition)\n",
    "\n",
    "print('Extract elements using condition')\n",
    "print(np.extract(condition,x))\n"
   ]
  },
  {
   "cell_type": "code",
   "execution_count": 10,
   "metadata": {},
   "outputs": [
    {
     "name": "stdout",
     "output_type": "stream",
     "text": [
      "Our array is:\n",
      "[[0 1 2]\n",
      " [3 4 5]\n",
      " [6 7 8]]\n",
      "\n",
      "\n",
      "Element wise value of condition\n",
      "[[False False False]\n",
      " [False False False]\n",
      " [False False False]]\n",
      "\n",
      "\n",
      "Extract elements using condition\n",
      "[]\n"
     ]
    }
   ],
   "source": [
    "#numpy.extract()\n",
    "import numpy as np\n",
    "x = np.arange(9).reshape(3,3)\n",
    "\n",
    "print('Our array is:')\n",
    "print(x)\n",
    "print('\\n')\n",
    "\n",
    "#define a condition\n",
    "condition = np.mod(x,2) == 2\n",
    "print('Element wise value of condition')\n",
    "print(condition)\n",
    "print('\\n')\n",
    "\n",
    "print('Extract elements using condition')\n",
    "print(np.extract(condition,x))"
   ]
  },
  {
   "cell_type": "code",
   "execution_count": null,
   "metadata": {},
   "outputs": [],
   "source": []
  }
 ],
 "metadata": {
  "kernelspec": {
   "display_name": "Python 3",
   "language": "python",
   "name": "python3"
  },
  "language_info": {
   "codemirror_mode": {
    "name": "ipython",
    "version": 3
   },
   "file_extension": ".py",
   "mimetype": "text/x-python",
   "name": "python",
   "nbconvert_exporter": "python",
   "pygments_lexer": "ipython3",
   "version": "3.7.4"
  }
 },
 "nbformat": 4,
 "nbformat_minor": 2
}
