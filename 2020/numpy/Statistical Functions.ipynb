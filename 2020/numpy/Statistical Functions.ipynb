{
 "cells": [
  {
   "cell_type": "code",
   "execution_count": 1,
   "metadata": {},
   "outputs": [
    {
     "name": "stdout",
     "output_type": "stream",
     "text": [
      "Our array is:\n",
      "[[2 7 5]\n",
      " [8 4 3]\n",
      " [2 4 9]]\n",
      "\n",
      "\n",
      "Applying amin()  functions:\n",
      "[2 3 2]\n",
      "\n",
      "\n",
      "Applying amin() function again:\n",
      "[2 4 3]\n",
      "\n",
      "\n",
      "Applying amax() function:\n",
      "9\n",
      "\n",
      "\n",
      "Applying amax() function again:\n",
      "[8 7 9]\n"
     ]
    }
   ],
   "source": [
    "#numpy.admin() and numpy.amax()\n",
    "import numpy as np\n",
    "\n",
    "a = np.array([[2,7,5],[8,4,3],[2,4,9]])\n",
    "\n",
    "print('Our array is:')\n",
    "print(a)\n",
    "print('\\n')\n",
    "\n",
    "print('Applying amin()  functions:')\n",
    "print( np.amin(a,1) )\n",
    "print('\\n')\n",
    "\n",
    "print('Applying amin() function again:')\n",
    "print( np.amin(a,0) )\n",
    "print('\\n')\n",
    "\n",
    "print('Applying amax() function:')\n",
    "print(np.amax(a))\n",
    "print('\\n')\n",
    "\n",
    "print('Applying amax() function again:')\n",
    "print( np.amax(a,axis=0) )"
   ]
  },
  {
   "cell_type": "code",
   "execution_count": 2,
   "metadata": {},
   "outputs": [
    {
     "name": "stdout",
     "output_type": "stream",
     "text": [
      "Our array is:\n",
      "[[3 7 5]\n",
      " [8 4 3]\n",
      " [2 4 9]]\n",
      "\n",
      "\n",
      "Applying ptp() function:\n",
      "7\n",
      "\n",
      "\n",
      "Applying ptp() function along axis 1:\n",
      "[4 5 7]\n",
      "\n",
      "\n",
      "Applying ptp() function along axis 0:\n",
      "[6 3 6]\n"
     ]
    }
   ],
   "source": [
    "#numpy.ptp()\n",
    "import numpy as np\n",
    "\n",
    "a = np.array([[3,7,5],[8,4,3],[2,4,9]])\n",
    "print('Our array is:')\n",
    "print(a)\n",
    "print('\\n')\n",
    "\n",
    "print('Applying ptp() function:')\n",
    "print(np.ptp(a))\n",
    "print('\\n')\n",
    "\n",
    "print('Applying ptp() function along axis 1:')\n",
    "print( np.ptp(a,axis=1) )\n",
    "print('\\n')\n",
    "\n",
    "print('Applying ptp() function along axis 0:')\n",
    "print( np.ptp(a,axis=0) )"
   ]
  },
  {
   "cell_type": "code",
   "execution_count": 4,
   "metadata": {},
   "outputs": [
    {
     "name": "stdout",
     "output_type": "stream",
     "text": [
      "Our array is:\n",
      "[[30 40 70]\n",
      " [80 20 10]\n",
      " [50 90 60]]\n",
      "\n",
      "\n",
      "Applying percentile() function:\n",
      "50.0\n",
      "\n",
      "\n",
      "Applying percentile() function along axis 1:\n",
      "[40. 20. 60.]\n",
      "\n",
      "\n",
      "Applying percentile() function along axis 0:\n",
      "[50. 40. 60.]\n"
     ]
    }
   ],
   "source": [
    "#numpy.percentile()\n",
    "import numpy as np\n",
    "\n",
    "a = np.array([[30,40,70],[80,20,10],[50,90,60]])\n",
    "\n",
    "print('Our array is:')\n",
    "print(a)\n",
    "print('\\n')\n",
    "\n",
    "print('Applying percentile() function:')\n",
    "print( np.percentile(a,50) )\n",
    "print('\\n')\n",
    "\n",
    "print('Applying percentile() function along axis 1:')\n",
    "print( np.percentile(a,50,axis=1) )\n",
    "print('\\n')\n",
    "\n",
    "print('Applying percentile() function along axis 0:')\n",
    "print( np.percentile(a,50,axis=0) )"
   ]
  },
  {
   "cell_type": "code",
   "execution_count": null,
   "metadata": {},
   "outputs": [],
   "source": [
    "#numpy.median()\n",
    "import numpy as np\n",
    "\n",
    "a = np.array([[30,65,70],[80,95,10],[50,90,60]])\n",
    "\n",
    "print('Our apply is:')\n",
    "print(a)\n",
    "print('\\n')\n",
    "\n",
    "print('')"
   ]
  }
 ],
 "metadata": {
  "kernelspec": {
   "display_name": "Python 3",
   "language": "python",
   "name": "python3"
  },
  "language_info": {
   "codemirror_mode": {
    "name": "ipython",
    "version": 3
   },
   "file_extension": ".py",
   "mimetype": "text/x-python",
   "name": "python",
   "nbconvert_exporter": "python",
   "pygments_lexer": "ipython3",
   "version": "3.7.4"
  }
 },
 "nbformat": 4,
 "nbformat_minor": 2
}
