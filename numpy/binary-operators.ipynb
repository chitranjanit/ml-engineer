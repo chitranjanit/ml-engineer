{
 "cells": [
  {
   "cell_type": "code",
   "execution_count": 1,
   "metadata": {},
   "outputs": [
    {
     "name": "stdout",
     "output_type": "stream",
     "text": [
      "binary equivalents of 13 and 17:\n",
      "0b1101 0b10001\n",
      "\n",
      "\n",
      "Bitwise AND of 13 and 17:\n",
      "0\n"
     ]
    }
   ],
   "source": [
    "import numpy as np\n",
    "\n",
    "print('binary equivalents of 13 and 17:')\n",
    "a,b = 13,17\n",
    "print( bin(a),bin(b) )\n",
    "print('\\n')\n",
    "\n",
    "print('Bitwise AND of 13 and 17:')\n",
    "print( np.bitwise_and(12,17) )"
   ]
  },
  {
   "cell_type": "code",
   "execution_count": 2,
   "metadata": {},
   "outputs": [
    {
     "name": "stdout",
     "output_type": "stream",
     "text": [
      "binary equivalents of 13 and 17:\n",
      "0b1101 0b10001\n",
      "Bitwise OR of 13 and 17:\n",
      "29\n"
     ]
    }
   ],
   "source": [
    "#Bitwise_or\n",
    "import numpy as np\n",
    "\n",
    "a,b = 13,17\n",
    "print('binary equivalents of 13 and 17:')\n",
    "print( bin(a),bin(b) )\n",
    "\n",
    "print('Bitwise OR of 13 and 17:')\n",
    "print( np.bitwise_or(13,17) )"
   ]
  },
  {
   "cell_type": "code",
   "execution_count": 3,
   "metadata": {},
   "outputs": [
    {
     "name": "stdout",
     "output_type": "stream",
     "text": [
      "Invert of 13 where dtype of adarray is unit8:\n",
      "[242]\n",
      "\n",
      "\n",
      "Binary representation of 13:\n",
      "00001101\n",
      "\n",
      "\n",
      "Binary representation of 242:\n",
      "11110010\n"
     ]
    }
   ],
   "source": [
    "#numpy Invert\n",
    "import numpy as np\n",
    "print('Invert of 13 where dtype of adarray is unit8:')\n",
    "print( np.invert(np.array([13],dtype=np.uint8)) )\n",
    "print('\\n')\n",
    "\n",
    "#Comparing binary reresentation of 13 and 242, we find the inversion of bits\n",
    "print('Binary representation of 13:')\n",
    "print( np.binary_repr(13,width=8) )\n",
    "print('\\n')\n",
    "\n",
    "print('Binary representation of 242:')\n",
    "print( np.binary_repr(242,width=8) )"
   ]
  },
  {
   "cell_type": "code",
   "execution_count": 4,
   "metadata": {},
   "outputs": [
    {
     "name": "stdout",
     "output_type": "stream",
     "text": [
      "Left shift of 10 by two positions:\n",
      "40\n",
      "\n",
      "\n",
      "Binary representation of 10:\n",
      "00001010\n",
      "\n",
      "\n",
      "Binary representation of 40:\n",
      "00101000\n"
     ]
    }
   ],
   "source": [
    "#left_shift\n",
    "import numpy as np\n",
    "print('Left shift of 10 by two positions:')\n",
    "print( np.left_shift(10,2) )\n",
    "print('\\n')\n",
    "\n",
    "print('Binary representation of 10:')\n",
    "print( np.binary_repr(10,width=8) )\n",
    "print('\\n')\n",
    "\n",
    "print('Binary representation of 40:')\n",
    "print( np.binary_repr(40,width=8) )\n",
    "\n",
    "#Two bits in '00001010' are shifted to left and two 0s appended from right.\n"
   ]
  },
  {
   "cell_type": "code",
   "execution_count": 7,
   "metadata": {},
   "outputs": [
    {
     "name": "stdout",
     "output_type": "stream",
     "text": [
      "Right shift 40 by two positions:\n",
      "10\n",
      "\n",
      "\n",
      "Binary representation of 40:\n",
      "00101000\n",
      "\n",
      "\n",
      "Binary representation of 10\n",
      "00001010\n"
     ]
    }
   ],
   "source": [
    "#right_shift\n",
    "import numpy as np\n",
    "print('Right shift 40 by two positions:')\n",
    "print( np.right_shift(40,2) )\n",
    "print('\\n')\n",
    "\n",
    "print('Binary representation of 40:')\n",
    "print( np.binary_repr(40,width=8) )\n",
    "print('\\n')\n",
    "\n",
    "print('Binary representation of 10')\n",
    "print( np.binary_repr(10,width=8) )\n",
    "\n",
    "#Two Bits in '00001010' are shifted to right and two 0s appended from left."
   ]
  },
  {
   "cell_type": "code",
   "execution_count": null,
   "metadata": {},
   "outputs": [],
   "source": []
  }
 ],
 "metadata": {
  "kernelspec": {
   "display_name": "Python 3",
   "language": "python",
   "name": "python3"
  },
  "language_info": {
   "codemirror_mode": {
    "name": "ipython",
    "version": 3
   },
   "file_extension": ".py",
   "mimetype": "text/x-python",
   "name": "python",
   "nbconvert_exporter": "python",
   "pygments_lexer": "ipython3",
   "version": "3.7.4"
  }
 },
 "nbformat": 4,
 "nbformat_minor": 2
}
