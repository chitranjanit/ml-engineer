{
 "cells": [
  {
   "cell_type": "code",
   "execution_count": 2,
   "metadata": {},
   "outputs": [
    {
     "name": "stdout",
     "output_type": "stream",
     "text": [
      "Our array is:\n",
      "[   1  256 8755]\n",
      "\n",
      "\n",
      "Representation of data in memory in hexadecimal form:\n",
      "<map object at 0x107959e50>\n",
      "\n",
      "\n",
      "Applying byteswap() function:\n",
      "[  256     1 13090]\n",
      "In hexadecimal form:\n",
      "<map object at 0x107964110>\n"
     ]
    }
   ],
   "source": [
    "#numpy.ndarray.bytswap()\n",
    "import numpy as np\n",
    "\n",
    "a = np.array([1,256,8755],dtype=np.int16)\n",
    "print('Our array is:')\n",
    "print(a)\n",
    "print('\\n')\n",
    "\n",
    "print('Representation of data in memory in hexadecimal form:')\n",
    "print(map(hex,a))\n",
    "print('\\n')\n",
    "\n",
    "#byteswap() function swaps in place by passing True parameter\n",
    "print('Applying byteswap() function:')\n",
    "print(a.byteswap(True))\n",
    "print('In hexadecimal form:')\n",
    "print(map(hex,a))\n",
    "\n",
    "#We can see the "
   ]
  },
  {
   "cell_type": "code",
   "execution_count": null,
   "metadata": {},
   "outputs": [],
   "source": []
  }
 ],
 "metadata": {
  "kernelspec": {
   "display_name": "Python 3",
   "language": "python",
   "name": "python3"
  },
  "language_info": {
   "codemirror_mode": {
    "name": "ipython",
    "version": 3
   },
   "file_extension": ".py",
   "mimetype": "text/x-python",
   "name": "python",
   "nbconvert_exporter": "python",
   "pygments_lexer": "ipython3",
   "version": "3.7.4"
  }
 },
 "nbformat": 4,
 "nbformat_minor": 2
}
