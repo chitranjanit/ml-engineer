{
 "cells": [
  {
   "cell_type": "code",
   "execution_count": 1,
   "metadata": {},
   "outputs": [
    {
     "name": "stdout",
     "output_type": "stream",
     "text": [
      "Original array:\n",
      "[  1.      5.55  123.      0.567  25.532]\n",
      "\n",
      "\n",
      "After rounding:\n",
      "[  1.   6. 123.   1.  26.]\n",
      "[  1.    5.6 123.    0.6  25.5]\n",
      "[  0.  10. 120.   0.  30.]\n"
     ]
    }
   ],
   "source": [
    "#numpy.around()\n",
    "import numpy as np\n",
    "a = np.array([1.0,5.55,123,0.567,25.532])\n",
    "\n",
    "print('Original array:')\n",
    "print(a)\n",
    "print('\\n')\n",
    "\n",
    "print('After rounding:')\n",
    "print( np.around(a) )\n",
    "print( np.around(a,decimals=1) )\n",
    "print( np.around(a,decimals=-1) )"
   ]
  },
  {
   "cell_type": "code",
   "execution_count": 2,
   "metadata": {},
   "outputs": [
    {
     "name": "stdout",
     "output_type": "stream",
     "text": [
      "The given array:\n",
      "[-1.7  1.5 -0.2 -0.6 10. ]\n",
      "\n",
      "\n",
      "The modified array:\n",
      "[-2.  1. -1. -1. 10.]\n"
     ]
    }
   ],
   "source": [
    "#numpy.floor()\n",
    "import numpy as np\n",
    "a = np.array([-1.7,1.5,-0.2,-0.6,10])\n",
    "\n",
    "print('The given array:')\n",
    "print(a)\n",
    "print('\\n')\n",
    "\n",
    "print('The modified array:')\n",
    "print( np.floor(a) )"
   ]
  },
  {
   "cell_type": "code",
   "execution_count": 3,
   "metadata": {},
   "outputs": [
    {
     "name": "stdout",
     "output_type": "stream",
     "text": [
      "The given array:\n",
      "[-1.7  1.5 -0.2  0.6 10. ]\n",
      "\n",
      "\n",
      "The modified array:\n",
      "[-1.  2. -0.  1. 10.]\n"
     ]
    }
   ],
   "source": [
    "#numpy.ceil()\n",
    "import numpy as np\n",
    "a = np.array([-1.7,1.5,-0.2,0.6,10])\n",
    "\n",
    "print('The given array:')\n",
    "print(a)\n",
    "print('\\n')\n",
    "\n",
    "print('The modified array:')\n",
    "print( np.ceil(a) )"
   ]
  },
  {
   "cell_type": "code",
   "execution_count": null,
   "metadata": {},
   "outputs": [],
   "source": []
  }
 ],
 "metadata": {
  "kernelspec": {
   "display_name": "Python 3",
   "language": "python",
   "name": "python3"
  },
  "language_info": {
   "codemirror_mode": {
    "name": "ipython",
    "version": 3
   },
   "file_extension": ".py",
   "mimetype": "text/x-python",
   "name": "python",
   "nbconvert_exporter": "python",
   "pygments_lexer": "ipython3",
   "version": "3.7.4"
  }
 },
 "nbformat": 4,
 "nbformat_minor": 2
}
