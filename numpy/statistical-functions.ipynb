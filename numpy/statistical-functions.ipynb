{
 "cells": [
  {
   "cell_type": "code",
   "execution_count": 2,
   "metadata": {},
   "outputs": [
    {
     "ename": "SyntaxError",
     "evalue": "invalid syntax (<ipython-input-2-bfaaabe48ff8>, line 4)",
     "output_type": "error",
     "traceback": [
      "\u001b[0;36m  File \u001b[0;32m\"<ipython-input-2-bfaaabe48ff8>\"\u001b[0;36m, line \u001b[0;32m4\u001b[0m\n\u001b[0;31m    a = np.array([[3,7,5],[8,4,3],[2,4,9]]) print 'Our array is:'\u001b[0m\n\u001b[0m                                                ^\u001b[0m\n\u001b[0;31mSyntaxError\u001b[0m\u001b[0;31m:\u001b[0m invalid syntax\n"
     ]
    }
   ],
   "source": []
  },
  {
   "cell_type": "code",
   "execution_count": 5,
   "metadata": {},
   "outputs": [
    {
     "name": "stdout",
     "output_type": "stream",
     "text": [
      "Our array is:\n",
      "[[3 7 5]\n",
      " [8 4 3]\n",
      " [2 4 9]]\n",
      "\n",
      "\n",
      "Applying amin() function:\n",
      "[3 3 2]\n",
      "\n",
      "\n",
      "Applying amin() function again:\n",
      "[2 4 3]\n",
      "\n",
      "\n",
      "Applying amax() function:\n",
      "9\n",
      "\n",
      "\n",
      "Applying amax() function again:\n",
      "[8 7 9]\n"
     ]
    }
   ],
   "source": [
    "import numpy as np\n",
    "a = np.array([[3,7,5],[8,4,3],[2,4,9]])\n",
    "\n",
    "print('Our array is:')\n",
    "print(a)\n",
    "print('\\n')\n",
    "\n",
    "print('Applying amin() function:')\n",
    "print( np.amin(a,1) )\n",
    "print('\\n')\n",
    "\n",
    "print('Applying amin() function again:')\n",
    "print(np.amin(a,0))\n",
    "print('\\n')\n",
    "\n",
    "print('Applying amax() function:')\n",
    "print( np.amax(a) )\n",
    "print('\\n')\n",
    "\n",
    "print('Applying amax() function again:')\n",
    "print( np.amax(a,axis=0) )"
   ]
  },
  {
   "cell_type": "code",
   "execution_count": 7,
   "metadata": {},
   "outputs": [
    {
     "name": "stdout",
     "output_type": "stream",
     "text": [
      "Our array is:\n",
      "[[3 7 5]\n",
      " [8 4 3]\n",
      " [2 4 9]]\n",
      "\n",
      "\n",
      "Applying plt() function:\n",
      "7\n",
      "\n",
      "\n",
      "Applying ptp() function along axis 1:\n",
      "[4 5 7]\n",
      "\n",
      "\n",
      "Applying ptp() function along axis 0:\n",
      "[6 3 6]\n"
     ]
    }
   ],
   "source": [
    "#numpy.ptp()\n",
    "import numpy as np\n",
    "a = np.array([[3,7,5],[8,4,3],[2,4,9]])\n",
    "\n",
    "print('Our array is:')\n",
    "print(a)\n",
    "print('\\n')\n",
    "\n",
    "print('Applying plt() function:')\n",
    "print( np.ptp(a) )\n",
    "print('\\n')\n",
    "\n",
    "print('Applying ptp() function along axis 1:')\n",
    "print( np.ptp(a,axis=1) )\n",
    "print('\\n')\n",
    "\n",
    "print( 'Applying ptp() function along axis 0:' )\n",
    "print( np.ptp(a,axis=0) )"
   ]
  },
  {
   "cell_type": "code",
   "execution_count": 8,
   "metadata": {},
   "outputs": [
    {
     "name": "stdout",
     "output_type": "stream",
     "text": [
      "Our array is:\n",
      "[[30 40 70]\n",
      " [80 20 10]\n",
      " [50 90 60]]\n",
      "\n",
      "\n",
      "Applying percentile() function:\n",
      "50.0\n",
      "\n",
      "\n",
      "Applying percentile() function along axis 0:\n",
      "[50. 40. 60.]\n"
     ]
    }
   ],
   "source": [
    "#numpy.percentile()\n",
    "import numpy as np\n",
    "\n",
    "a = np.array([[30,40,70],[80,20,10],[50,90,60]])\n",
    "print('Our array is:')\n",
    "print(a)\n",
    "print('\\n')\n",
    "\n",
    "print('Applying percentile() function:')\n",
    "print( np.percentile(a,50) )\n",
    "print('\\n')\n",
    "\n",
    "print('Applying percentile() function along axis 0:')\n",
    "print( np.percentile(a,50,axis=0) )"
   ]
  },
  {
   "cell_type": "code",
   "execution_count": 9,
   "metadata": {},
   "outputs": [
    {
     "name": "stdout",
     "output_type": "stream",
     "text": [
      "Our array is:\n",
      "[[30 65 70]\n",
      " [80 95 10]\n",
      " [50 90 60]]\n",
      "\n",
      "\n",
      "Applying median() function:\n",
      "65.0\n",
      "\n",
      "\n",
      "Applying median() function along axis 0:\n",
      "[50. 90. 60.]\n",
      "\n",
      "\n",
      "Applying median() function along axis 1: \n",
      "[65. 80. 60.]\n"
     ]
    }
   ],
   "source": [
    "#Numpy.median()\n",
    "import numpy as np\n",
    "a = np.array([[30,65,70],[80,95,10],[50,90,60]])\n",
    "\n",
    "print('Our array is:')\n",
    "print(a)\n",
    "print('\\n')\n",
    "\n",
    "print('Applying median() function:')\n",
    "print(np.median(a))\n",
    "print('\\n')\n",
    "\n",
    "print('Applying median() function along axis 0:')\n",
    "print( np.median(a,axis=0) )\n",
    "print('\\n')\n",
    "\n",
    "print('Applying median() function along axis 1: ')\n",
    "print( np.median(a,axis=1) )"
   ]
  },
  {
   "cell_type": "code",
   "execution_count": 11,
   "metadata": {},
   "outputs": [
    {
     "name": "stdout",
     "output_type": "stream",
     "text": [
      "Our array is:\n",
      "[[1 2 3]\n",
      " [3 4 5]\n",
      " [4 5 6]]\n",
      "\n",
      "\n",
      "Applying mean() function:\n",
      "3.6666666666666665\n",
      "\n",
      "\n",
      "Applying mean() function along axis 0:\n",
      "[2.66666667 3.66666667 4.66666667]\n",
      "\n",
      "\n",
      "applying mean() function along axis 1:\n",
      "[2. 4. 5.]\n"
     ]
    }
   ],
   "source": [
    "#Numpy.mean()\n",
    "import numpy as np\n",
    "\n",
    "a = np.array([[1,2,3],[3,4,5],[4,5,6]])\n",
    "print('Our array is:')\n",
    "print(a)\n",
    "print('\\n')\n",
    "\n",
    "print('Applying mean() function:')\n",
    "print( np.mean(a) )\n",
    "print('\\n')\n",
    "\n",
    "print('Applying mean() function along axis 0:')\n",
    "print( np.mean(a,axis=0) )\n",
    "print('\\n')\n",
    "\n",
    "print( 'applying mean() function along axis 1:' )\n",
    "print( np.mean(a,axis=1) )"
   ]
  },
  {
   "cell_type": "code",
   "execution_count": 13,
   "metadata": {},
   "outputs": [
    {
     "name": "stdout",
     "output_type": "stream",
     "text": [
      "Our array is:\n",
      "[1 2 3 4]\n",
      "\n",
      "\n",
      "Applying average() function:\n",
      "2.5\n",
      "\n",
      "\n",
      "Applying average() function again:\n",
      "2.0\n",
      "\n",
      "\n",
      "Sum of weights\n",
      "(2.0, 10.0)\n"
     ]
    }
   ],
   "source": [
    "#numpy.average()\n",
    "import numpy as np\n",
    "\n",
    "a = np.array([1,2,3,4])\n",
    "print('Our array is:')\n",
    "print(a)\n",
    "print('\\n')\n",
    "\n",
    "print('Applying average() function:')\n",
    "print( np.average(a) )\n",
    "print('\\n')\n",
    "\n",
    "#this is same as mean when weight is not specified\n",
    "wts=np.array([4,3,2,1])\n",
    "print('Applying average() function again:')\n",
    "print( np.average(a,weights=wts) )\n",
    "print('\\n')\n",
    "\n",
    "#Returns the sum of weights, if the returned paramenter is set true.\n",
    "print('Sum of weights')\n",
    "print(np.average([1,2,3,4],weights=[4,3,2,1],returned=True))"
   ]
  },
  {
   "cell_type": "code",
   "execution_count": 16,
   "metadata": {},
   "outputs": [
    {
     "ename": "SyntaxError",
     "evalue": "invalid syntax (<ipython-input-16-acfbbed12d7c>, line 2)",
     "output_type": "error",
     "traceback": [
      "\u001b[0;36m  File \u001b[0;32m\"<ipython-input-16-acfbbed12d7c>\"\u001b[0;36m, line \u001b[0;32m2\u001b[0m\n\u001b[0;31m    a = np.arange(6).reshape(3,2) print 'Our array is:'\u001b[0m\n\u001b[0m                                      ^\u001b[0m\n\u001b[0;31mSyntaxError\u001b[0m\u001b[0;31m:\u001b[0m invalid syntax\n"
     ]
    }
   ],
   "source": []
  },
  {
   "cell_type": "code",
   "execution_count": 17,
   "metadata": {},
   "outputs": [
    {
     "name": "stdout",
     "output_type": "stream",
     "text": [
      "1.118033988749895\n"
     ]
    }
   ],
   "source": [
    "#Standard Deviation\n",
    "import numpy as np\n",
    "print( np.std([1,2,3,4]) )"
   ]
  },
  {
   "cell_type": "code",
   "execution_count": 18,
   "metadata": {},
   "outputs": [
    {
     "name": "stdout",
     "output_type": "stream",
     "text": [
      "1.25\n"
     ]
    }
   ],
   "source": [
    "#Variance\n",
    "import numpy as np\n",
    "print( np.var([1,2,3,4]) )"
   ]
  },
  {
   "cell_type": "code",
   "execution_count": 20,
   "metadata": {},
   "outputs": [
    {
     "name": "stdout",
     "output_type": "stream",
     "text": [
      "[[3 7]\n",
      " [9 1]]\n",
      "\n",
      "\n",
      "Applying sort() function:\n",
      "[[3 7]\n",
      " [1 9]]\n",
      "\n",
      "\n",
      "Sort along axis 0:\n",
      "[[3 1]\n",
      " [9 7]]\n",
      "\n",
      "\n",
      "Our array is:\n",
      "[(b'raju', 21) (b'anil', 25) (b'ravi', 17) (b'amar', 27)]\n",
      "\n",
      "\n",
      "Order by name:\n",
      "[(b'amar', 27) (b'anil', 25) (b'raju', 21) (b'ravi', 17)]\n"
     ]
    }
   ],
   "source": [
    "#numpy.sort()\n",
    "import numpy as np\n",
    "\n",
    "a = np.array([[3,7],[9,1]])\n",
    "print(a)\n",
    "print('\\n')\n",
    "\n",
    "print('Applying sort() function:')\n",
    "print( np.sort(a) )\n",
    "print('\\n')\n",
    "\n",
    "print('Sort along axis 0:')\n",
    "print(np.sort(a,axis=0))\n",
    "print('\\n')\n",
    "\n",
    "#Order parameter in sort function\n",
    "dt = np.dtype([('name', 'S10'),('age', int)])\n",
    "a = np.array([(\"raju\",21),(\"anil\",25),(\"ravi\", 17), (\"amar\",27)], dtype=dt)\n",
    "\n",
    "print('Our array is:')\n",
    "print(a)\n",
    "print('\\n')\n",
    "\n",
    "print('Order by name:')\n",
    "print(np.sort(a,order='name'))"
   ]
  },
  {
   "cell_type": "code",
   "execution_count": 21,
   "metadata": {},
   "outputs": [
    {
     "name": "stdout",
     "output_type": "stream",
     "text": [
      "Our array is:\n",
      "[3 1 2]\n",
      "\n",
      "\n",
      "Applying argsort() to x:\n",
      "[1 2 0]\n",
      "\n",
      "\n",
      "Reconstruct original array in sorted order:\n",
      "[1 2 3]\n",
      "\n",
      "\n",
      "Reconstruct the original array using loop:\n",
      "1\n",
      "2\n",
      "3\n"
     ]
    }
   ],
   "source": [
    "#numpy.argsort()\n",
    "import numpy as np\n",
    "x = np.array([3,1,2])\n",
    "\n",
    "print('Our array is:')\n",
    "print(x)\n",
    "print('\\n')\n",
    "\n",
    "print('Applying argsort() to x:')\n",
    "y = np.argsort(x)\n",
    "print(y)\n",
    "print('\\n')\n",
    "\n",
    "print('Reconstruct original array in sorted order:')\n",
    "print(x[y])\n",
    "print('\\n')\n",
    "\n",
    "print('Reconstruct the original array using loop:')\n",
    "for i in y:\n",
    "    print(x[i])"
   ]
  },
  {
   "cell_type": "code",
   "execution_count": 25,
   "metadata": {},
   "outputs": [
    {
     "name": "stdout",
     "output_type": "stream",
     "text": [
      "Applying lexort() function:\n",
      "[3 1 0 2]\n",
      "\n",
      "\n",
      "Use this index to get sorted data:\n",
      "['amar, f.y.', 'anil, s.y.', 'raju, f.y.', 'ravi, s.y.']\n"
     ]
    }
   ],
   "source": [
    "#numpy.lexsort()\n",
    "import numpy as np\n",
    "\n",
    "nm = ('raju','anil','ravi','amar') \n",
    "dv = ('f.y.', 's.y.', 's.y.', 'f.y.')\n",
    "\n",
    "ind = np.lexsort((dv,nm))\n",
    "print('Applying lexort() function:')\n",
    "print(ind)\n",
    "print('\\n')\n",
    "\n",
    "print('Use this index to get sorted data:')\n",
    "print ( [nm[i] + \", \" + dv[i] for i in ind] )"
   ]
  },
  {
   "cell_type": "code",
   "execution_count": null,
   "metadata": {},
   "outputs": [],
   "source": []
  }
 ],
 "metadata": {
  "kernelspec": {
   "display_name": "Python 3",
   "language": "python",
   "name": "python3"
  },
  "language_info": {
   "codemirror_mode": {
    "name": "ipython",
    "version": 3
   },
   "file_extension": ".py",
   "mimetype": "text/x-python",
   "name": "python",
   "nbconvert_exporter": "python",
   "pygments_lexer": "ipython3",
   "version": "3.7.4"
  }
 },
 "nbformat": 4,
 "nbformat_minor": 2
}
