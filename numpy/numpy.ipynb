{
 "cells": [
  {
   "cell_type": "code",
   "execution_count": 10,
   "metadata": {},
   "outputs": [
    {
     "name": "stdout",
     "output_type": "stream",
     "text": [
      "Array [list([10, 20]) list([30, 40, 50])]\n",
      "Size: 2\n",
      "Datetype: object\n",
      "Dimenston: 1\n",
      "Shape: (2,)\n"
     ]
    }
   ],
   "source": [
    "import numpy as np\n",
    "\n",
    "my_list = [[10,20],[30,40,50]]\n",
    "arr = np.array(my_list)\n",
    "print('Array',arr)\n",
    "print('Size:',arr.size)\n",
    "print('Datetype:',arr.dtype)\n",
    "print('Dimenston:',arr.ndim)\n",
    "print('Shape:',arr.shape)\n"
   ]
  },
  {
   "cell_type": "code",
   "execution_count": 14,
   "metadata": {},
   "outputs": [
    {
     "name": "stdout",
     "output_type": "stream",
     "text": [
      "elements:*\n",
      "10\n",
      "20\n",
      "30\n",
      "\n",
      "40\n",
      "50\n",
      "60\n",
      "\n",
      "70\n",
      "80\n",
      "90\n",
      "\n"
     ]
    }
   ],
   "source": [
    "my_list = [[10,20,30],[40,50,60],[70,80,90]]\n",
    "matrix = np.array(my_list)\n",
    "\n",
    "print(\"elements:*\")\n",
    "for row in matrix:\n",
    "    for ele in row:\n",
    "        print(ele)\n",
    "    print('')"
   ]
  },
  {
   "cell_type": "code",
   "execution_count": null,
   "metadata": {},
   "outputs": [],
   "source": []
  }
 ],
 "metadata": {
  "kernelspec": {
   "display_name": "Python 3",
   "language": "python",
   "name": "python3"
  },
  "language_info": {
   "codemirror_mode": {
    "name": "ipython",
    "version": 3
   },
   "file_extension": ".py",
   "mimetype": "text/x-python",
   "name": "python",
   "nbconvert_exporter": "python",
   "pygments_lexer": "ipython3",
   "version": "3.7.4"
  }
 },
 "nbformat": 4,
 "nbformat_minor": 2
}
