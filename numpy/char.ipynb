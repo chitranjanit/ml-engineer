{
 "cells": [
  {
   "cell_type": "code",
   "execution_count": 1,
   "metadata": {},
   "outputs": [
    {
     "name": "stdout",
     "output_type": "stream",
     "text": [
      "shok aror\n",
      "['ror' 'dmin' 'jav']\n"
     ]
    }
   ],
   "source": [
    "#numpy.char.strip()\n",
    "import numpy as np\n",
    "print( np.char.strip('ashok arora','a') )\n",
    "print( np.char.strip(['arora','admin','java'],'a') )"
   ]
  },
  {
   "cell_type": "code",
   "execution_count": 2,
   "metadata": {},
   "outputs": [
    {
     "name": "stdout",
     "output_type": "stream",
     "text": [
      "d:m:y\n",
      "['d:m:y' 'y-m-d']\n"
     ]
    }
   ],
   "source": [
    "#numpy.char.join()\n",
    "import numpy as np\n",
    "print( np.char.join(':','dmy') )\n",
    "print( np.char.join([':','-'],['dmy','ymd']) )"
   ]
  },
  {
   "cell_type": "code",
   "execution_count": 3,
   "metadata": {},
   "outputs": [
    {
     "name": "stdout",
     "output_type": "stream",
     "text": [
      "He was a good boy\n"
     ]
    }
   ],
   "source": [
    "#numpy.char.replace()\n",
    "import numpy as np\n",
    "print( np.char.replace('He is a good boy','is','was') )"
   ]
  },
  {
   "cell_type": "code",
   "execution_count": 4,
   "metadata": {},
   "outputs": [
    {
     "name": "stdout",
     "output_type": "stream",
     "text": [
      "b'\\x88\\x85\\x93\\x93\\x96'\n",
      "hello\n"
     ]
    }
   ],
   "source": [
    "#numpy.char.encode()\n",
    "import numpy as np\n",
    "a = np.char.encode('hello','cp500')\n",
    "print( a )\n",
    "print( np.char.decode(a,'cp500') )"
   ]
  },
  {
   "cell_type": "code",
   "execution_count": 6,
   "metadata": {},
   "outputs": [
    {
     "name": "stdout",
     "output_type": "stream",
     "text": [
      "Sine of different angles:\n",
      "[0.         0.5        0.70710678 0.8660254  1.        ]\n",
      "\n",
      "\n",
      "cosine values for angles in array:\n",
      "[1.00000000e+00 8.66025404e-01 7.07106781e-01 5.00000000e-01\n",
      " 6.12323400e-17]\n",
      "\n",
      "\n",
      "Tangent value for given angles:\n",
      "[0.00000000e+00 5.77350269e-01 1.00000000e+00 1.73205081e+00\n",
      " 1.63312394e+16]\n"
     ]
    }
   ],
   "source": [
    "# Trigonometric Functions\n",
    "import numpy as np\n",
    "a = np.array([0,30,45,60,90])\n",
    "print('Sine of different angles:')\n",
    "\n",
    "#Convert to radians by multiplying with ip/180\n",
    "print( np.sin(a*np.pi/180) )\n",
    "print('\\n')\n",
    "\n",
    "print('cosine values for angles in array:')\n",
    "print( np.cos(a*np.pi/180) )\n",
    "print('\\n')\n",
    "\n",
    "print('Tangent value for given angles:')\n",
    "print( np.tan(a*np.pi/180) )"
   ]
  },
  {
   "cell_type": "code",
   "execution_count": 7,
   "metadata": {},
   "outputs": [
    {
     "name": "stdout",
     "output_type": "stream",
     "text": [
      "[0.         0.80901699 0.98768834 0.95105652 0.30901699]\n",
      "\n",
      "\n",
      "Compute sine inverse of angle. Returned values are in radians.\n",
      "[0.         0.9424778  1.41371669 1.25663706 0.31415927]\n",
      "\n",
      "\n",
      "Check result by converting to degres:\n",
      "[ 0. 54. 81. 72. 18.]\n",
      "\n",
      "\n",
      "arccos and arctan function behave similarly:\n",
      "[1.00000000e+00 8.66025404e-01 7.07106781e-01 5.00000000e-01\n",
      " 6.12323400e-17]\n",
      "\n",
      "\n",
      "Inverse of cos:\n",
      "[0.         0.52359878 0.78539816 1.04719755 1.57079633]\n",
      "\n",
      "\n",
      "In degrees:\n",
      "[ 0. 30. 45. 60. 90.]\n",
      "\n",
      "\n",
      "Tan function:\n",
      "[0.00000000e+00 5.77350269e-01 1.00000000e+00 1.73205081e+00\n",
      " 1.63312394e+16]\n",
      "\n",
      "\n",
      "Inverse of tan:\n",
      "[0.         0.52359878 0.78539816 1.04719755 1.57079633]\n",
      "\n",
      "\n",
      "In degrees:\n",
      "[ 0. 30. 45. 60. 90.]\n"
     ]
    }
   ],
   "source": [
    "#numpy.degrees()\n",
    "import numpy as np\n",
    "\n",
    "a = np.array([0,30,45,60,90])\n",
    "sin=np.sin(a*np.pi/100)\n",
    "print( sin )\n",
    "print('\\n')\n",
    "\n",
    "print('Compute sine inverse of angle. Returned values are in radians.')\n",
    "inv=np.arcsin(sin)\n",
    "print(inv)\n",
    "print('\\n')\n",
    "\n",
    "print('Check result by converting to degres:')\n",
    "print( np.degrees(inv) )\n",
    "print('\\n')\n",
    "\n",
    "print('arccos and arctan function behave similarly:')\n",
    "cos=np.cos(a*np.pi/180)\n",
    "print(cos)\n",
    "print('\\n')\n",
    "\n",
    "print('Inverse of cos:')\n",
    "inv=np.arccos(cos)\n",
    "print(inv)\n",
    "print('\\n')\n",
    "\n",
    "print('In degrees:')\n",
    "print( np.degrees(inv) )\n",
    "print('\\n')\n",
    "\n",
    "print('Tan function:')\n",
    "tan=np.tan(a*np.pi/180)\n",
    "print(tan)\n",
    "print('\\n')\n",
    "\n",
    "print('Inverse of tan:')\n",
    "inv =np.arctan(tan)\n",
    "print(inv)\n",
    "print('\\n')\n",
    "\n",
    "print('In degrees:')\n",
    "print( np.degrees(inv) )"
   ]
  },
  {
   "cell_type": "code",
   "execution_count": 8,
   "metadata": {},
   "outputs": [
    {
     "name": "stdout",
     "output_type": "stream",
     "text": [
      "Original array:\n",
      "[  1.      5.55  123.      0.567  25.532]\n",
      "\n",
      "\n",
      "After rounding:\n",
      "[  1.   6. 123.   1.  26.]\n",
      "[  1.    5.6 123.    0.6  25.5]\n",
      "[  0.  10. 120.   0.  30.]\n"
     ]
    }
   ],
   "source": [
    "#numpy.around()\n",
    "import numpy as np\n",
    "a = np.array([1.0,5.55,123,0.567,25.532])\n",
    "print('Original array:')\n",
    "print(a)\n",
    "print('\\n')\n",
    "\n",
    "print('After rounding:')\n",
    "print( np.around(a) )\n",
    "print( np.around(a,decimals=1) )\n",
    "print( np.around(a,decimals=-1) )"
   ]
  },
  {
   "cell_type": "code",
   "execution_count": 9,
   "metadata": {},
   "outputs": [
    {
     "name": "stdout",
     "output_type": "stream",
     "text": [
      "The given array:\n",
      "[-1.7  1.5  0.6 10. ]\n",
      "\n",
      "\n",
      "The modified array:\n",
      "[-2.  1.  0. 10.]\n"
     ]
    }
   ],
   "source": [
    "#Numpy.floor()\n",
    "import numpy as np\n",
    "a = np.array([-1.7,1.5,0.6,10])\n",
    "print('The given array:')\n",
    "print(a)\n",
    "print('\\n')\n",
    "\n",
    "#\n",
    "print('The modified array:')\n",
    "print( np.floor(a) )"
   ]
  },
  {
   "cell_type": "code",
   "execution_count": 10,
   "metadata": {},
   "outputs": [
    {
     "name": "stdout",
     "output_type": "stream",
     "text": [
      "The given array:\n",
      "[-1.7  1.5 -0.2  0.6 10. ]\n",
      "\n",
      "\n",
      "The modified array:\n",
      "[-1.  2. -0.  1. 10.]\n"
     ]
    }
   ],
   "source": [
    "#numpy.ceil()\n",
    "import numpy as np\n",
    "a = np.array([-1.7,1.5,-0.2,0.6,10])\n",
    "print('The given array:')\n",
    "print(a)\n",
    "print('\\n')\n",
    "\n",
    "print('The modified array:')\n",
    "print( np.ceil(a) )"
   ]
  },
  {
   "cell_type": "code",
   "execution_count": null,
   "metadata": {},
   "outputs": [],
   "source": []
  }
 ],
 "metadata": {
  "kernelspec": {
   "display_name": "Python 3",
   "language": "python",
   "name": "python3"
  },
  "language_info": {
   "codemirror_mode": {
    "name": "ipython",
    "version": 3
   },
   "file_extension": ".py",
   "mimetype": "text/x-python",
   "name": "python",
   "nbconvert_exporter": "python",
   "pygments_lexer": "ipython3",
   "version": "3.7.4"
  }
 },
 "nbformat": 4,
 "nbformat_minor": 2
}
