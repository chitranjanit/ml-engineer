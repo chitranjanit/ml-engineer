{
 "cells": [
  {
   "cell_type": "code",
   "execution_count": 1,
   "metadata": {},
   "outputs": [
    {
     "ename": "SyntaxError",
     "evalue": "invalid syntax (<ipython-input-1-3f294ca95400>, line 2)",
     "output_type": "error",
     "traceback": [
      "\u001b[0;36m  File \u001b[0;32m\"<ipython-input-1-3f294ca95400>\"\u001b[0;36m, line \u001b[0;32m2\u001b[0m\n\u001b[0;31m    x = np.array([[1], [2], [3]]) y = np.array([4, 5, 6])\u001b[0m\n\u001b[0m                                  ^\u001b[0m\n\u001b[0;31mSyntaxError\u001b[0m\u001b[0;31m:\u001b[0m invalid syntax\n"
     ]
    }
   ],
   "source": [
    "import numpy as np\n",
    "x = np.array([[1], [2], [3]]) y = np.array([4, 5, 6])\n",
    "# tobroadcast x against y b = np.broadcast(x,y)\n",
    "# it has an iterator property, a tuple of iterators along self's \"components.\" print 'Broadcast x against y:'\n",
    "r,c = b.iters\n",
    "print r.next(), c.next()\n",
    "print r.next(), c.next() print '\\n'\n",
    "# shape attribute returns the shape of broadcast object print 'The shape of the broadcast object:'\n",
    "print b.shape\n",
    "print '\\n'\n",
    "# to add x and y manually using broadcast\n",
    "b = np.broadcast(x,y)\n",
    "c = np.empty(b.shape)\n",
    "print 'Add x and y manually using broadcast:' print c.shape\n",
    "print '\\n'\n",
    "c.flat = [u+v for (u,v) in b]\n",
    "print 'After applying the flat function:' print c\n",
    "print '\\n'\n",
    "# same result obtained by NumPy's built-in broadcasting support print 'The summation of x and y:'\n",
    "print x+y"
   ]
  },
  {
   "cell_type": "code",
   "execution_count": 2,
   "metadata": {},
   "outputs": [
    {
     "name": "stdout",
     "output_type": "stream",
     "text": [
      "The original array:\n",
      "[[0 1 2 3]]\n",
      "\n",
      "\n",
      "After applying the broadcast_to function:\n",
      "[[0 1 2 3]\n",
      " [0 1 2 3]\n",
      " [0 1 2 3]\n",
      " [0 1 2 3]]\n"
     ]
    }
   ],
   "source": [
    "#Example 10\n",
    "import numpy as np\n",
    "a = np.arange(4).reshape(1,4)\n",
    "print('The original array:')\n",
    "print(a)\n",
    "print('\\n')\n",
    "\n",
    "print('After applying the broadcast_to function:')\n",
    "print(np.broadcast_to(a,(4,4)))"
   ]
  },
  {
   "cell_type": "code",
   "execution_count": 3,
   "metadata": {},
   "outputs": [
    {
     "name": "stdout",
     "output_type": "stream",
     "text": [
      "Aray x:\n",
      "[[1 2]\n",
      " [3 4]]\n",
      "\n",
      "\n",
      "Array y:\n",
      "[[[1 2]\n",
      "  [3 4]]]\n",
      "\n",
      "\n"
     ]
    }
   ],
   "source": [
    "# numpy.expand_dims\n",
    "import numpy as np\n",
    "x = np.array(([1,2],[3,4]))\n",
    "print('Aray x:')\n",
    "print(x)\n",
    "print('\\n')\n",
    "\n",
    "y = np.expand_dims(x,axis=0)\n",
    "print('Array y:')\n",
    "print(y)\n",
    "print('\\n')"
   ]
  },
  {
   "cell_type": "code",
   "execution_count": 4,
   "metadata": {},
   "outputs": [
    {
     "name": "stdout",
     "output_type": "stream",
     "text": [
      "Array x:\n",
      "[[1 2]\n",
      " [3 4]]\n",
      "\n",
      "\n",
      "Array y:\n",
      "[[[1 2]\n",
      "  [3 4]]]\n",
      "\n",
      "\n",
      "The shape of X and Y array:\n",
      "(2, 2) (1, 2, 2)\n",
      "\n",
      "\n",
      "Array Y after inserting axis at position 1:\n",
      "[[[1 2]]\n",
      "\n",
      " [[3 4]]]\n",
      "\n",
      "\n",
      "x.ndim and y.ndim:\n",
      "2 3\n",
      "\n",
      "\n",
      "x.shape and y.shape:\n",
      "(2, 2) (2, 1, 2)\n"
     ]
    }
   ],
   "source": [
    "# Expands Dims\n",
    "import numpy as np\n",
    "print('Array x:')\n",
    "print(x)\n",
    "print('\\n')\n",
    "\n",
    "y = np.expand_dims(x,axis=0)\n",
    "print('Array y:')\n",
    "print(y)\n",
    "print('\\n')\n",
    "\n",
    "print('The shape of X and Y array:')\n",
    "print( x.shape,y.shape )\n",
    "print('\\n')\n",
    "\n",
    "#insert axis at position 1\n",
    "y = np.expand_dims(x,axis=1)\n",
    "print('Array Y after inserting axis at position 1:')\n",
    "print(y)\n",
    "print('\\n')\n",
    "\n",
    "print('x.ndim and y.ndim:')\n",
    "print(x.ndim,y.ndim)\n",
    "print('\\n')\n",
    "\n",
    "print('x.shape and y.shape:')\n",
    "print(x.shape,y.shape)"
   ]
  },
  {
   "cell_type": "code",
   "execution_count": 5,
   "metadata": {},
   "outputs": [
    {
     "name": "stdout",
     "output_type": "stream",
     "text": [
      "Array X:\n",
      "[[[0 1 2]\n",
      "  [3 4 5]\n",
      "  [6 7 8]]]\n",
      "\n",
      "\n",
      "Array Y:\n",
      "[[0 1 2]\n",
      " [3 4 5]\n",
      " [6 7 8]]\n",
      "\n",
      "\n",
      "The shapes of  X and Y array:\n",
      "(1, 3, 3) (3, 3)\n"
     ]
    }
   ],
   "source": [
    "#numpy.squeeze\n",
    "import numpy as np\n",
    "x = np.arange(9).reshape(1,3,3)\n",
    "print('Array X:')\n",
    "print(x)\n",
    "print('\\n')\n",
    "\n",
    "y = np.squeeze(x)\n",
    "print('Array Y:')\n",
    "print(y)\n",
    "print('\\n')\n",
    "\n",
    "print('The shapes of  X and Y array:')\n",
    "print( x.shape,y.shape )"
   ]
  },
  {
   "cell_type": "code",
   "execution_count": 6,
   "metadata": {},
   "outputs": [
    {
     "name": "stdout",
     "output_type": "stream",
     "text": [
      "first array:\n",
      "[[1 2]\n",
      " [3 4]]\n",
      "\n",
      "\n",
      "second Array:\n",
      "[[5 6]\n",
      " [7 8]]\n",
      "\n",
      "\n",
      "Joining the two array along axis 0:\n",
      "[[1 2]\n",
      " [3 4]\n",
      " [5 6]\n",
      " [7 8]]\n",
      "\n",
      "\n",
      "Joining the two array along axis 1:\n",
      "[[1 2 5 6]\n",
      " [3 4 7 8]]\n"
     ]
    }
   ],
   "source": [
    "# numpy.concatenate\n",
    "import numpy as np\n",
    "a = np.array([[1,2],[3,4]])\n",
    "print('first array:')\n",
    "print(a)\n",
    "print('\\n')\n",
    "\n",
    "b = np.array([[5,6],[7,8]])\n",
    "print('second Array:')\n",
    "print(b)\n",
    "print('\\n')\n",
    "\n",
    "#both the arrays are of seme dimensions\n",
    "print('Joining the two array along axis 0:')\n",
    "print( np.concatenate((a,b)) )\n",
    "print('\\n')\n",
    "\n",
    "print('Joining the two array along axis 1:')\n",
    "print( np.concatenate((a,b),axis=1) )"
   ]
  },
  {
   "cell_type": "code",
   "execution_count": 8,
   "metadata": {},
   "outputs": [
    {
     "name": "stdout",
     "output_type": "stream",
     "text": [
      "First Array:\n",
      "[[1 2]\n",
      " [3 4]]\n",
      "\n",
      "\n",
      "Second Array:\n",
      "[[5 6]\n",
      " [7 8]]\n",
      "\n",
      "\n",
      "Stack the two arrays along axis 0:\n",
      "[[[1 2]\n",
      "  [3 4]]\n",
      "\n",
      " [[5 6]\n",
      "  [7 8]]]\n",
      "\n",
      "\n",
      "Stack the two arrays along axis 1:\n",
      "[[[1 2]\n",
      "  [5 6]]\n",
      "\n",
      " [[3 4]\n",
      "  [7 8]]]\n"
     ]
    }
   ],
   "source": [
    "#numpy.stack\n",
    "import numpy as np\n",
    "a = np.array([[1,2],[3,4]])\n",
    "print('First Array:')\n",
    "print(a)\n",
    "print('\\n')\n",
    "\n",
    "b = np.array([[5,6],[7,8]])\n",
    "print('Second Array:')\n",
    "print(b)\n",
    "print('\\n')\n",
    "\n",
    "print('Stack the two arrays along axis 0:')\n",
    "print( np.stack((a,b),0) )\n",
    "print('\\n')\n",
    "\n",
    "print('Stack the two arrays along axis 1:')\n",
    "print( np.stack((a,b),1) )"
   ]
  },
  {
   "cell_type": "code",
   "execution_count": 9,
   "metadata": {},
   "outputs": [
    {
     "name": "stdout",
     "output_type": "stream",
     "text": [
      "First array:\n",
      "[[1 2]\n",
      " [3 4]]\n",
      "\n",
      "\n",
      "Second array:\n",
      "[[5 6]\n",
      " [7 8]]\n",
      "\n",
      "\n",
      "Horizontal stacking:\n",
      "[[1 2 5 6]\n",
      " [3 4 7 8]]\n"
     ]
    }
   ],
   "source": [
    "# numpy.hstack and numpy.vstack\n",
    "import numpy as np\n",
    "a = np.array([[1,2],[3,4]])\n",
    "print('First array:')\n",
    "print(a)\n",
    "print('\\n')\n",
    "\n",
    "b = np.array([[5,6],[7,8]])\n",
    "print('Second array:')\n",
    "print(b)\n",
    "print('\\n')\n",
    "\n",
    "print('Horizontal stacking:')\n",
    "c = np.hstack((a,b))\n",
    "print(c)"
   ]
  },
  {
   "cell_type": "code",
   "execution_count": 10,
   "metadata": {},
   "outputs": [
    {
     "name": "stdout",
     "output_type": "stream",
     "text": [
      "First array:\n",
      "[0 1 2 3 4 5 6 7 8]\n",
      "\n",
      "\n",
      "splite the array in 3 equal sized subarrays:\n",
      "[array([0, 1, 2]), array([3, 4, 5]), array([6, 7, 8])]\n",
      "\n",
      "\n",
      "Split the array at positions indicated in a-D array:\n",
      "[array([0, 1, 2, 3]), array([4, 5, 6]), array([7, 8])]\n"
     ]
    }
   ],
   "source": [
    "# numpy.split\n",
    "import numpy as np\n",
    "a = np.arange(9)\n",
    "print('First array:')\n",
    "print(a)\n",
    "print('\\n')\n",
    "\n",
    "print('splite the array in 3 equal sized subarrays:')\n",
    "b = np.split(a,3)\n",
    "print(b)\n",
    "print('\\n')\n",
    "\n",
    "print('Split the array at positions indicated in a-D array:')\n",
    "b = np.split(a,[4,7])\n",
    "print(b)"
   ]
  },
  {
   "cell_type": "code",
   "execution_count": 12,
   "metadata": {},
   "outputs": [
    {
     "name": "stdout",
     "output_type": "stream",
     "text": [
      "First array:\n",
      "[[ 0  1  2  3]\n",
      " [ 4  5  6  7]\n",
      " [ 8  9 10 11]\n",
      " [12 13 14 15]]\n",
      "\n",
      "\n",
      "Horizontal splitting:\n",
      "[array([[ 0,  1],\n",
      "       [ 4,  5],\n",
      "       [ 8,  9],\n",
      "       [12, 13]]), array([[ 2,  3],\n",
      "       [ 6,  7],\n",
      "       [10, 11],\n",
      "       [14, 15]])]\n",
      "\n",
      "\n",
      "Vertical splitting:\n",
      "[array([[0, 1, 2, 3],\n",
      "       [4, 5, 6, 7]]), array([[ 8,  9, 10, 11],\n",
      "       [12, 13, 14, 15]])]\n"
     ]
    }
   ],
   "source": [
    "# numpy.hsplit and numpy.vsplit\n",
    "import numpy as np\n",
    "a = np.arange(16).reshape(4,4)\n",
    "print('First array:')\n",
    "print(a)\n",
    "print('\\n')\n",
    "\n",
    "print('Horizontal splitting:')\n",
    "b = np.hsplit(a,2)\n",
    "print(b)\n",
    "print('\\n')\n",
    "\n",
    "print('Vertical splitting:')\n",
    "b = np.vsplit(a,2)\n",
    "print(b )"
   ]
  },
  {
   "cell_type": "code",
   "execution_count": 13,
   "metadata": {},
   "outputs": [
    {
     "name": "stdout",
     "output_type": "stream",
     "text": [
      "First array:\n",
      "[[1 2 3]\n",
      " [4 5 6]]\n",
      "\n",
      "\n",
      "The shape of first array:\n",
      "(2, 3)\n",
      "\n",
      "\n",
      "Second array:\n",
      "[[1 2]\n",
      " [3 4]\n",
      " [5 6]]\n",
      "\n",
      "\n",
      "The Shape of second array:\n",
      "(3, 2)\n",
      "\n",
      "\n",
      "Resize the second array:\n",
      "[[1 2 3]\n",
      " [4 5 6]\n",
      " [1 2 3]]\n"
     ]
    }
   ],
   "source": [
    "# numpy.resize\n",
    "import numpy as np\n",
    "a = np.array([[1,2,3],[4,5,6]])\n",
    "print('First array:')\n",
    "print(a)\n",
    "print('\\n')\n",
    "\n",
    "print('The shape of first array:')\n",
    "print( a.shape )\n",
    "print('\\n')\n",
    "\n",
    "b = np.resize(a,(3,2))\n",
    "print('Second array:')\n",
    "print(b)\n",
    "print('\\n')\n",
    "\n",
    "print('The Shape of second array:')\n",
    "print( b.shape )\n",
    "print('\\n')\n",
    "\n",
    "# Observe that first row of a is repeated in b since size is bigger\n",
    "print('Resize the second array:')\n",
    "b = np.resize(a,(3,3))\n",
    "print(b)"
   ]
  },
  {
   "cell_type": "code",
   "execution_count": 16,
   "metadata": {},
   "outputs": [
    {
     "name": "stdout",
     "output_type": "stream",
     "text": [
      "First array:\n",
      "[[1 2 3]\n",
      " [4 5 6]]\n",
      "\n",
      "\n",
      "Append elements to array:\n",
      "[1 2 3 4 5 6 7 8 9]\n",
      "\n",
      "\n",
      "Append elements along axis 0:\n",
      "[[1 2 3]\n",
      " [4 5 6]\n",
      " [7 8 9]]\n",
      "\n",
      "\n",
      "Append elements along axis 1:\n",
      "[[1 2 3 5 5 5]\n",
      " [4 5 6 7 8 9]]\n"
     ]
    }
   ],
   "source": [
    "# numpy.append\n",
    "import numpy as np\n",
    "\n",
    "a = np.array([[1,2,3],[4,5,6]])\n",
    "print('First array:')\n",
    "print(a)\n",
    "print('\\n')\n",
    "\n",
    "print('Append elements to array:')\n",
    "print( np.append(a,[7,8,9]) )\n",
    "print('\\n')\n",
    "\n",
    "print('Append elements along axis 0:')\n",
    "print( np.append(a,[[7,8,9]],axis=0) )\n",
    "print('\\n')\n",
    "\n",
    "print('Append elements along axis 1:')\n",
    "print( np.append(a,[[5,5,5],[7,8,9]],axis=1) )"
   ]
  },
  {
   "cell_type": "code",
   "execution_count": null,
   "metadata": {},
   "outputs": [],
   "source": []
  }
 ],
 "metadata": {
  "kernelspec": {
   "display_name": "Python 3",
   "language": "python",
   "name": "python3"
  },
  "language_info": {
   "codemirror_mode": {
    "name": "ipython",
    "version": 3
   },
   "file_extension": ".py",
   "mimetype": "text/x-python",
   "name": "python",
   "nbconvert_exporter": "python",
   "pygments_lexer": "ipython3",
   "version": "3.7.4"
  }
 },
 "nbformat": 4,
 "nbformat_minor": 2
}
