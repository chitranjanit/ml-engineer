{
 "cells": [
  {
   "cell_type": "code",
   "execution_count": 3,
   "metadata": {},
   "outputs": [
    {
     "name": "stdout",
     "output_type": "stream",
     "text": [
      "First array:\n",
      "[[1 2]\n",
      " [3 4]\n",
      " [5 6]]\n",
      "\n",
      "\n",
      "Axis parameter not passed. the input array is flatted before insertion\n",
      "[ 1  2  3 11 12  4  5  6]\n",
      "\n",
      "\n",
      "Axis parameter passed. The values array is broadcast to match input array.\n",
      "Broadcast along axis 0:\n",
      "[[ 1  2]\n",
      " [11 11]\n",
      " [ 3  4]\n",
      " [ 5  6]]\n",
      "\n",
      "\n",
      "Broadcast along axis 1:\n",
      "[[ 1 11  2]\n",
      " [ 3 11  4]\n",
      " [ 5 11  6]]\n"
     ]
    }
   ],
   "source": [
    "import numpy as np\n",
    "a = np.array([[1,2],[3,4],[5,6]])\n",
    "print('First array:')\n",
    "print(a)\n",
    "print('\\n')\n",
    "\n",
    "print('Axis parameter not passed. the input array is flatted before insertion')\n",
    "print( np.insert(a,3,[11,12]) )\n",
    "print('\\n')\n",
    "\n",
    "print('Axis parameter passed. The values array is broadcast to match input array.')\n",
    "print('Broadcast along axis 0:')\n",
    "print( np.insert(a,1,[11],axis=0) )\n",
    "print('\\n')\n",
    "\n",
    "print('Broadcast along axis 1:')\n",
    "print( np.insert(a,1,11,axis=1) )"
   ]
  },
  {
   "cell_type": "code",
   "execution_count": null,
   "metadata": {},
   "outputs": [],
   "source": []
  },
  {
   "cell_type": "code",
   "execution_count": 4,
   "metadata": {},
   "outputs": [
    {
     "name": "stdout",
     "output_type": "stream",
     "text": [
      "First array:\n",
      "[[ 0  1  2  3]\n",
      " [ 4  5  6  7]\n",
      " [ 8  9 10 11]]\n",
      "\n",
      "\n",
      "Array flattends before delete operation as axis not user:\n",
      "[ 0  1  2  3  4  6  7  8  9 10 11]\n",
      "\n",
      "\n",
      "Column 2 deleted:\n",
      "[[ 0  2  3]\n",
      " [ 4  6  7]\n",
      " [ 8 10 11]]\n",
      "\n",
      "\n",
      "A alice containing alternate values from array deleted:\n",
      "[ 2  4  6  8 10]\n"
     ]
    }
   ],
   "source": [
    "#numpy.delete\n",
    "import numpy as np\n",
    "\n",
    "a = np.arange(12).reshape(3,4)\n",
    "\n",
    "print('First array:')\n",
    "print(a)\n",
    "print('\\n')\n",
    "\n",
    "print('Array flattends before delete operation as axis not user:')\n",
    "print( np.delete(a,5) )\n",
    "print('\\n')\n",
    "\n",
    "print('Column 2 deleted:')\n",
    "print( np.delete(a,1,axis=1) )\n",
    "print('\\n')\n",
    "\n",
    "print('A alice containing alternate values from array deleted:')\n",
    "a = np.array([1,2,3,4,5,6,7,8,9,10])\n",
    "\n",
    "print( np.delete(a,np.s_[::2]) )"
   ]
  },
  {
   "cell_type": "code",
   "execution_count": 7,
   "metadata": {},
   "outputs": [
    {
     "ename": "SyntaxError",
     "evalue": "Missing parentheses in call to 'print'. Did you mean print('First array:')? (<ipython-input-7-67b8b69d87fa>, line 5)",
     "output_type": "error",
     "traceback": [
      "\u001b[0;36m  File \u001b[0;32m\"<ipython-input-7-67b8b69d87fa>\"\u001b[0;36m, line \u001b[0;32m5\u001b[0m\n\u001b[0;31m    print 'First array:'\u001b[0m\n\u001b[0m                       ^\u001b[0m\n\u001b[0;31mSyntaxError\u001b[0m\u001b[0;31m:\u001b[0m Missing parentheses in call to 'print'. Did you mean print('First array:')?\n"
     ]
    }
   ],
   "source": [
    "# Numpy.unique\n",
    "\n",
    "import numpy as np\n",
    "a = np.array([5,2,6,2,7,5,6,8,2,9])\n",
    "print 'First array:'\n",
    "print a\n",
    "print '\\n'\n",
    "print 'Unique values of first array:' u = np.unique(a)\n",
    "print u\n",
    "print '\\n'\n",
    "print 'Unique array and Indices array:' u,indices=np.unique(a, return_index=True) print indices\n",
    "print '\\n'\n",
    "print 'We can see each number corresponds to index in original array:' print a\n",
    "print '\\n'\n",
    "print 'Indices of unique array:' u,indices=np.unique(a,return_inverse=True) print u\n",
    "print '\\n'\n",
    "print 'Indices are:'\n",
    "print indices\n",
    "print '\\n'\n",
    "print 'Reconstruct the original array using indices:' print u[indices]\n",
    "print '\\n'\n",
    "print 'Return the count of repetitions of unique elements:' u,indices=np.unique(a,return_counts=True)\n",
    "print u\n",
    "print(indices)"
   ]
  },
  {
   "cell_type": "code",
   "execution_count": null,
   "metadata": {},
   "outputs": [],
   "source": []
  }
 ],
 "metadata": {
  "kernelspec": {
   "display_name": "Python 3",
   "language": "python",
   "name": "python3"
  },
  "language_info": {
   "codemirror_mode": {
    "name": "ipython",
    "version": 3
   },
   "file_extension": ".py",
   "mimetype": "text/x-python",
   "name": "python",
   "nbconvert_exporter": "python",
   "pygments_lexer": "ipython3",
   "version": "3.7.4"
  }
 },
 "nbformat": 4,
 "nbformat_minor": 2
}
