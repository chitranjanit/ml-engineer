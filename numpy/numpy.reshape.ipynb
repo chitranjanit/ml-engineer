{
 "cells": [
  {
   "cell_type": "code",
   "execution_count": 7,
   "metadata": {},
   "outputs": [
    {
     "name": "stdout",
     "output_type": "stream",
     "text": [
      "The original array:\n",
      "[0 1 2 3 4 5 6 7 8]\n",
      "\n",
      "\n",
      "The modified array:\n",
      "[[0 1 2]\n",
      " [3 4 5]\n",
      " [6 7 8]]\n"
     ]
    }
   ],
   "source": [
    "#Example 1\n",
    "import numpy as np\n",
    "a = np.arange(9)\n",
    "print('The original array:')\n",
    "print(a)\n",
    "print('\\n')\n",
    "\n",
    "b = a.reshape(3,3)\n",
    "print('The modified array:')\n",
    "print(b)"
   ]
  },
  {
   "cell_type": "markdown",
   "metadata": {},
   "source": []
  },
  {
   "cell_type": "code",
   "execution_count": 9,
   "metadata": {},
   "outputs": [
    {
     "name": "stdout",
     "output_type": "stream",
     "text": [
      "The original array:\n",
      "[[0 1 2 3]\n",
      " [4 5 6 7]]\n",
      "\n",
      "\n",
      "After applying the flat function:\n",
      "5\n"
     ]
    }
   ],
   "source": [
    "#Example 2\n",
    "import numpy as np\n",
    "\n",
    "a = np.arange(8).reshape(2,4)\n",
    "print('The original array:')\n",
    "print (a)\n",
    "print('\\n')\n",
    "print('After applying the flat function:')\n",
    "\n",
    "#Returns element corresponding to index in flattened array\n",
    "print( a.flat[5] )"
   ]
  },
  {
   "cell_type": "code",
   "execution_count": 12,
   "metadata": {},
   "outputs": [
    {
     "name": "stdout",
     "output_type": "stream",
     "text": [
      "The original array is:\n",
      "[[0 1 2 3]\n",
      " [4 5 6 7]]\n",
      "\n",
      "\n",
      "The flattened array is:\n",
      "[0 1 2 3 4 5 6 7]\n",
      "\n",
      "\n",
      "The flattended array in F-style ordering:\n",
      "[0 4 1 5 2 6 3 7]\n"
     ]
    }
   ],
   "source": [
    "#Example 3\n",
    "import numpy as np\n",
    "\n",
    "a = np.arange(8).reshape(2,4)\n",
    "print('The original array is:')\n",
    "print(a)\n",
    "print('\\n')\n",
    "\n",
    "#Default is column-major\n",
    "print('The flattened array is:')\n",
    "print(a.flatten())\n",
    "print('\\n')\n",
    "\n",
    "print('The flattended array in F-style ordering:')\n",
    "print( a.flatten(order='F'))"
   ]
  },
  {
   "cell_type": "code",
   "execution_count": null,
   "metadata": {},
   "outputs": [],
   "source": []
  }
 ],
 "metadata": {
  "kernelspec": {
   "display_name": "Python 3",
   "language": "python",
   "name": "python3"
  },
  "language_info": {
   "codemirror_mode": {
    "name": "ipython",
    "version": 3
   },
   "file_extension": ".py",
   "mimetype": "text/x-python",
   "name": "python",
   "nbconvert_exporter": "python",
   "pygments_lexer": "ipython3",
   "version": "3.7.4"
  }
 },
 "nbformat": 4,
 "nbformat_minor": 2
}
