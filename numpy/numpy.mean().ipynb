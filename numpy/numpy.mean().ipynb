{
 "cells": [
  {
   "cell_type": "code",
   "execution_count": 2,
   "metadata": {},
   "outputs": [
    {
     "name": "stdout",
     "output_type": "stream",
     "text": [
      "Our array is:\n",
      "[[1 2 3]\n",
      " [3 4 5]\n",
      " [4 5 6]]\n",
      "\n",
      "\n",
      "Applying mean() function:\n",
      "3.6666666666666665\n",
      "\n",
      "\n",
      "Applying mean() function along axis 0:\n",
      "[2.66666667 3.66666667 4.66666667]\n",
      "\n",
      "\n",
      "Applying mean() function along axis 0:\n",
      "[2. 4. 5.]\n"
     ]
    }
   ],
   "source": [
    "import numpy as np\n",
    "\n",
    "a = np.array([[1,2,3],[3,4,5],[4,5,6]])\n",
    "print('Our array is:')\n",
    "print(a)\n",
    "print('\\n')\n",
    "\n",
    "print('Applying mean() function:')\n",
    "print( np.mean(a) )\n",
    "print('\\n')\n",
    "\n",
    "print('Applying mean() function along axis 0:')\n",
    "print( np.mean(a,axis=0) )\n",
    "print('\\n')\n",
    "\n",
    "print('Applying mean() function along axis 0:')\n",
    "print( np.mean(a,axis=1) )"
   ]
  },
  {
   "cell_type": "code",
   "execution_count": 3,
   "metadata": {},
   "outputs": [
    {
     "name": "stdout",
     "output_type": "stream",
     "text": [
      "Our array is:\n",
      "[1 2 3 4]\n",
      "\n",
      "\n",
      "Applying average() function:\n",
      "2.5\n",
      "\n",
      "\n",
      "Applying average() function again:\n",
      "2.0\n",
      "\n",
      "\n",
      "Sum of weights\n",
      "(2.0, 10.0)\n"
     ]
    }
   ],
   "source": [
    "#numpy.average()\n",
    "import numpy as np\n",
    "\n",
    "a = np.array([1,2,3,4])\n",
    "print('Our array is:')\n",
    "print(a)\n",
    "print('\\n')\n",
    "\n",
    "print('Applying average() function:')\n",
    "print(np.average(a))\n",
    "print('\\n')\n",
    "\n",
    "#This is same as when weight is not specified\n",
    "wts = np.array([4,3,2,1])\n",
    "print('Applying average() function again:')\n",
    "print( np.average(a,weights=wts) )\n",
    "print('\\n')\n",
    "\n",
    "#Resturent the sum of weights, if is returned peramenters is set to True.\n",
    "print('Sum of weights')\n",
    "print( np.average([1,2,3,4],weights=[4,3,2,1],returned=True) )"
   ]
  },
  {
   "cell_type": "code",
   "execution_count": 5,
   "metadata": {},
   "outputs": [
    {
     "name": "stdout",
     "output_type": "stream",
     "text": [
      "Our array is:\n",
      "[[0 1]\n",
      " [2 3]\n",
      " [4 5]]\n",
      "\n",
      "\n",
      "Modified array:\n",
      "[0.625 2.625 4.625]\n",
      "\n",
      "\n",
      "Modified array:\n",
      "(array([0.625, 2.625, 4.625]), array([8., 8., 8.]))\n"
     ]
    }
   ],
   "source": [
    "#Example\n",
    "import numpy as np\n",
    "\n",
    "a = np.arange(6).reshape(3,2)\n",
    "print('Our array is:')\n",
    "print(a)\n",
    "print('\\n')\n",
    "\n",
    "print('Modified array:')\n",
    "wt=np.array([3,5])\n",
    "print( np.average(a,axis=1,weights=wt) )\n",
    "print('\\n')\n",
    "\n",
    "print('Modified array:')\n",
    "print( np.average(a,axis=1,weights=wt,returned=True) )"
   ]
  },
  {
   "cell_type": "code",
   "execution_count": 6,
   "metadata": {},
   "outputs": [
    {
     "name": "stdout",
     "output_type": "stream",
     "text": [
      "1.25\n"
     ]
    }
   ],
   "source": [
    "#Standard Deviation\n",
    "import numpy as np\n",
    "print( np.var([1,2,3,4]) )"
   ]
  },
  {
   "cell_type": "code",
   "execution_count": null,
   "metadata": {},
   "outputs": [],
   "source": []
  }
 ],
 "metadata": {
  "kernelspec": {
   "display_name": "Python 3",
   "language": "python",
   "name": "python3"
  },
  "language_info": {
   "codemirror_mode": {
    "name": "ipython",
    "version": 3
   },
   "file_extension": ".py",
   "mimetype": "text/x-python",
   "name": "python",
   "nbconvert_exporter": "python",
   "pygments_lexer": "ipython3",
   "version": "3.7.4"
  }
 },
 "nbformat": 4,
 "nbformat_minor": 2
}
