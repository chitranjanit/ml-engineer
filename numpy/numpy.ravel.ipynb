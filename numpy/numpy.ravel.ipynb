{
 "cells": [
  {
   "cell_type": "code",
   "execution_count": 2,
   "metadata": {},
   "outputs": [
    {
     "name": "stdout",
     "output_type": "stream",
     "text": [
      "The original array is:\n",
      "[[0 1 2 3]\n",
      " [4 5 6 7]]\n",
      "\n",
      "\n",
      "After applying revel function:\n",
      "[0 1 2 3 4 5 6 7]\n",
      "\n",
      "\n",
      "applying revel function in F-style ordering:\n",
      "[0 4 1 5 2 6 3 7]\n"
     ]
    }
   ],
   "source": [
    "#Example 4\n",
    "import numpy as np\n",
    "a = np.arange(8).reshape(2,4)\n",
    "print('The original array is:')\n",
    "print(a)\n",
    "print('\\n')\n",
    "\n",
    "\n",
    "print('After applying revel function:')\n",
    "print (a.ravel())\n",
    "\n",
    "print('\\n')\n",
    "print('applying revel function in F-style ordering:')\n",
    "print(a.ravel(order='F'))"
   ]
  },
  {
   "cell_type": "code",
   "execution_count": null,
   "metadata": {},
   "outputs": [],
   "source": []
  }
 ],
 "metadata": {
  "kernelspec": {
   "display_name": "Python 3",
   "language": "python",
   "name": "python3"
  },
  "language_info": {
   "codemirror_mode": {
    "name": "ipython",
    "version": 3
   },
   "file_extension": ".py",
   "mimetype": "text/x-python",
   "name": "python",
   "nbconvert_exporter": "python",
   "pygments_lexer": "ipython3",
   "version": "3.7.4"
  }
 },
 "nbformat": 4,
 "nbformat_minor": 2
}
